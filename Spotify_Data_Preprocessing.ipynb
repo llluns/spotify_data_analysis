{
  "nbformat": 4,
  "nbformat_minor": 0,
  "metadata": {
    "kernelspec": {
      "display_name": "Python 3",
      "language": "python",
      "name": "python3"
    },
    "language_info": {
      "codemirror_mode": {
        "name": "ipython",
        "version": 3
      },
      "file_extension": ".py",
      "mimetype": "text/x-python",
      "name": "python",
      "nbconvert_exporter": "python",
      "pygments_lexer": "ipython3",
      "version": "3.8.6"
    },
    "colab": {
      "name": "Spotify Data Preprocessing.ipynb",
      "provenance": [],
      "collapsed_sections": [],
      "toc_visible": true,
      "include_colab_link": true
    }
  },
  "cells": [
    {
      "cell_type": "markdown",
      "metadata": {
        "id": "view-in-github",
        "colab_type": "text"
      },
      "source": [
        "<a href=\"https://colab.research.google.com/github/llluns/spotify_data_analysis/blob/main/Spotify_Data_Preprocessing.ipynb\" target=\"_parent\"><img src=\"https://colab.research.google.com/assets/colab-badge.svg\" alt=\"Open In Colab\"/></a>"
      ]
    },
    {
      "cell_type": "code",
      "metadata": {
        "colab": {
          "base_uri": "https://localhost:8080/"
        },
        "id": "wJhPlmPUuWvj",
        "outputId": "aff76e0b-af28-430c-fd33-6307a00d0693"
      },
      "source": [
        "from google.colab import drive\n",
        "drive.mount('/content/drive')"
      ],
      "execution_count": 3,
      "outputs": [
        {
          "output_type": "stream",
          "text": [
            "Mounted at /content/drive\n"
          ],
          "name": "stdout"
        }
      ]
    },
    {
      "cell_type": "markdown",
      "metadata": {
        "id": "fhgAzgRbh2sw"
      },
      "source": [
        "<h1><center> Spotify Data Exploration </center></h1>\n",
        "\n",
        "\n",
        "    \n",
        "<center>Name: Lauren Lunsford</center>\n",
        "\n",
        "<center>Start Date: July 14, 2021</center>\n"
      ]
    },
    {
      "cell_type": "markdown",
      "metadata": {
        "id": "Gu5ZTbmiug8x"
      },
      "source": [
        "## Read Me\n",
        "\n",
        "Hello! Here's some stuff you should know:\n",
        "\n",
        "This script operates off of two main datasources:\n",
        "1. Personally requested spotify data: Instructions for how to retrieve this data can be found [here](https://support.spotify.com/us/article/data-rights-and-privacy-settings/) under \"Can I download a copy of my personal data\". If the format for the data has changed, this script may not work. \n",
        "2. The spotify web API: To access the web api you need a developer account. Instructions on how to do that are [here](https://developer.spotify.com/dashboard/login). You then need to create a file called secrets.txt that includes your client ID and client secret. \n",
        "\n",
        "Furthermore, if you're using this on google colab, you need to upload your spotify data to a folder in your drive and mount said drive using the code in the first cell in this file. \n",
        "\n",
        "There is also an accompanying tableau file and visualizatons. This will be linked.  \n",
        "\n",
        "That's all- enjoy! "
      ]
    },
    {
      "cell_type": "markdown",
      "metadata": {
        "id": "WFmO9b5ch2sw"
      },
      "source": [
        "# Early Data Analysis   <a class=\"anchor\" id=\"first-bullet\"></a>"
      ]
    },
    {
      "cell_type": "markdown",
      "metadata": {
        "id": "wDWzGUWjh2sx"
      },
      "source": [
        "## Personal Data  <a class=\"anchor\" id=\"a\"></a>"
      ]
    },
    {
      "cell_type": "code",
      "metadata": {
        "id": "zXUzm-mkh2sx"
      },
      "source": [
        "#pip install spotipy\n",
        "import pandas as pd\n",
        "import json\n",
        "import numpy "
      ],
      "execution_count": 1,
      "outputs": []
    },
    {
      "cell_type": "markdown",
      "metadata": {
        "id": "UnqRE5FSh2sy"
      },
      "source": [
        "### Streaming History  <a class=\"anchor\" id=\"b\"></a>"
      ]
    },
    {
      "cell_type": "code",
      "metadata": {
        "scrolled": false,
        "id": "OplsWswzh2sy",
        "colab": {
          "base_uri": "https://localhost:8080/",
          "height": 221
        },
        "outputId": "bfc3b2da-bfe2-4b0b-eb62-29239c9c86ff"
      },
      "source": [
        "#reading data directly into pandas dataframe from json\n",
        "df0 = pd.read_json('drive/MyDrive/my_spotify_data/StreamingHistory0.json')\n",
        "df1 = pd.read_json('drive/MyDrive/my_spotify_data/StreamingHistory1.json')\n",
        "df2 = pd.read_json('drive/MyDrive/my_spotify_data/StreamingHistory2.json')\n",
        "\n",
        "#concatenating df's into a central df\n",
        "df = pd.concat([df0, df1, df2])\n",
        "\n",
        "#making sure there's no data loss\n",
        "print(len(df0),len(df1), len(df2), len(df))\n",
        "df.head()"
      ],
      "execution_count": 4,
      "outputs": [
        {
          "output_type": "stream",
          "text": [
            "10000 10000 5042 25042\n"
          ],
          "name": "stdout"
        },
        {
          "output_type": "execute_result",
          "data": {
            "text/html": [
              "<div>\n",
              "<style scoped>\n",
              "    .dataframe tbody tr th:only-of-type {\n",
              "        vertical-align: middle;\n",
              "    }\n",
              "\n",
              "    .dataframe tbody tr th {\n",
              "        vertical-align: top;\n",
              "    }\n",
              "\n",
              "    .dataframe thead th {\n",
              "        text-align: right;\n",
              "    }\n",
              "</style>\n",
              "<table border=\"1\" class=\"dataframe\">\n",
              "  <thead>\n",
              "    <tr style=\"text-align: right;\">\n",
              "      <th></th>\n",
              "      <th>endTime</th>\n",
              "      <th>artistName</th>\n",
              "      <th>trackName</th>\n",
              "      <th>msPlayed</th>\n",
              "    </tr>\n",
              "  </thead>\n",
              "  <tbody>\n",
              "    <tr>\n",
              "      <th>0</th>\n",
              "      <td>2020-07-11 00:19</td>\n",
              "      <td>Russian Cursive</td>\n",
              "      <td>Backwards</td>\n",
              "      <td>179813</td>\n",
              "    </tr>\n",
              "    <tr>\n",
              "      <th>1</th>\n",
              "      <td>2020-07-11 00:32</td>\n",
              "      <td>Russian Cursive</td>\n",
              "      <td>Backwards</td>\n",
              "      <td>179813</td>\n",
              "    </tr>\n",
              "    <tr>\n",
              "      <th>2</th>\n",
              "      <td>2020-07-11 03:37</td>\n",
              "      <td>Russian Cursive</td>\n",
              "      <td>Backwards</td>\n",
              "      <td>113963</td>\n",
              "    </tr>\n",
              "    <tr>\n",
              "      <th>3</th>\n",
              "      <td>2020-07-11 06:40</td>\n",
              "      <td>Toro y Moi</td>\n",
              "      <td>Mirage</td>\n",
              "      <td>114282</td>\n",
              "    </tr>\n",
              "    <tr>\n",
              "      <th>4</th>\n",
              "      <td>2020-07-11 06:42</td>\n",
              "      <td>Aru-2</td>\n",
              "      <td>Dwell</td>\n",
              "      <td>137142</td>\n",
              "    </tr>\n",
              "  </tbody>\n",
              "</table>\n",
              "</div>"
            ],
            "text/plain": [
              "            endTime       artistName  trackName  msPlayed\n",
              "0  2020-07-11 00:19  Russian Cursive  Backwards    179813\n",
              "1  2020-07-11 00:32  Russian Cursive  Backwards    179813\n",
              "2  2020-07-11 03:37  Russian Cursive  Backwards    113963\n",
              "3  2020-07-11 06:40       Toro y Moi     Mirage    114282\n",
              "4  2020-07-11 06:42            Aru-2      Dwell    137142"
            ]
          },
          "metadata": {
            "tags": []
          },
          "execution_count": 4
        }
      ]
    },
    {
      "cell_type": "markdown",
      "metadata": {
        "id": "AFi2dbRqMpLv"
      },
      "source": [
        "##### Favorite Artists"
      ]
    },
    {
      "cell_type": "code",
      "metadata": {
        "colab": {
          "base_uri": "https://localhost:8080/",
          "height": 235
        },
        "id": "gt53XruzMnHW",
        "outputId": "65ba17f6-b163-447e-ae02-449b793cf5d7"
      },
      "source": [
        "df_a=df.copy()\n",
        "df_a=df_a.groupby(['artistName']).sum() #summing by that unique id (so get total listen time on each song)\n",
        "df_a=df_a.sort_values(by=['msPlayed'],ascending=False)\n",
        "df_a.head()"
      ],
      "execution_count": 6,
      "outputs": [
        {
          "output_type": "execute_result",
          "data": {
            "text/html": [
              "<div>\n",
              "<style scoped>\n",
              "    .dataframe tbody tr th:only-of-type {\n",
              "        vertical-align: middle;\n",
              "    }\n",
              "\n",
              "    .dataframe tbody tr th {\n",
              "        vertical-align: top;\n",
              "    }\n",
              "\n",
              "    .dataframe thead th {\n",
              "        text-align: right;\n",
              "    }\n",
              "</style>\n",
              "<table border=\"1\" class=\"dataframe\">\n",
              "  <thead>\n",
              "    <tr style=\"text-align: right;\">\n",
              "      <th></th>\n",
              "      <th>msPlayed</th>\n",
              "    </tr>\n",
              "    <tr>\n",
              "      <th>artistName</th>\n",
              "      <th></th>\n",
              "    </tr>\n",
              "  </thead>\n",
              "  <tbody>\n",
              "    <tr>\n",
              "      <th>No Dumb Questions</th>\n",
              "      <td>71698724</td>\n",
              "    </tr>\n",
              "    <tr>\n",
              "      <th>Hiatus Kaiyote</th>\n",
              "      <td>27856499</td>\n",
              "    </tr>\n",
              "    <tr>\n",
              "      <th>KOKOROKO</th>\n",
              "      <td>26283440</td>\n",
              "    </tr>\n",
              "    <tr>\n",
              "      <th>Vulfpeck</th>\n",
              "      <td>23391811</td>\n",
              "    </tr>\n",
              "    <tr>\n",
              "      <th>Justice Der</th>\n",
              "      <td>21751707</td>\n",
              "    </tr>\n",
              "  </tbody>\n",
              "</table>\n",
              "</div>"
            ],
            "text/plain": [
              "                   msPlayed\n",
              "artistName                 \n",
              "No Dumb Questions  71698724\n",
              "Hiatus Kaiyote     27856499\n",
              "KOKOROKO           26283440\n",
              "Vulfpeck           23391811\n",
              "Justice Der        21751707"
            ]
          },
          "metadata": {
            "tags": []
          },
          "execution_count": 6
        }
      ]
    },
    {
      "cell_type": "markdown",
      "metadata": {
        "id": "R_a_UV-bh2s0"
      },
      "source": [
        "##### Favorite Songs"
      ]
    },
    {
      "cell_type": "code",
      "metadata": {
        "scrolled": false,
        "id": "ysTeYMFdh2s0",
        "colab": {
          "base_uri": "https://localhost:8080/",
          "height": 235
        },
        "outputId": "75a6f987-5461-4298-b036-e38b0ead47e2"
      },
      "source": [
        "#looking at total time Played \n",
        "df_time=df.copy()\n",
        "df_time['id']=df_time['artistName'] + \", \" + df_time['trackName'] #creating unique identifier \n",
        "df_time=df_time.groupby(['id']).sum() #summing by that unique id (so get total listen time on each song)\n",
        "df_time=df_time.sort_values(by=['msPlayed'],ascending=False)\n",
        "df_time['minsPlayed']=df_time['msPlayed']/1000/60\n",
        "df_time['hrsPlayed']=df_time['minsPlayed']/60\n",
        "df_time.head(5)"
      ],
      "execution_count": 7,
      "outputs": [
        {
          "output_type": "execute_result",
          "data": {
            "text/html": [
              "<div>\n",
              "<style scoped>\n",
              "    .dataframe tbody tr th:only-of-type {\n",
              "        vertical-align: middle;\n",
              "    }\n",
              "\n",
              "    .dataframe tbody tr th {\n",
              "        vertical-align: top;\n",
              "    }\n",
              "\n",
              "    .dataframe thead th {\n",
              "        text-align: right;\n",
              "    }\n",
              "</style>\n",
              "<table border=\"1\" class=\"dataframe\">\n",
              "  <thead>\n",
              "    <tr style=\"text-align: right;\">\n",
              "      <th></th>\n",
              "      <th>msPlayed</th>\n",
              "      <th>minsPlayed</th>\n",
              "      <th>hrsPlayed</th>\n",
              "    </tr>\n",
              "    <tr>\n",
              "      <th>id</th>\n",
              "      <th></th>\n",
              "      <th></th>\n",
              "      <th></th>\n",
              "    </tr>\n",
              "  </thead>\n",
              "  <tbody>\n",
              "    <tr>\n",
              "      <th>Lawrence, Freckles</th>\n",
              "      <td>20245668</td>\n",
              "      <td>337.427800</td>\n",
              "      <td>5.623797</td>\n",
              "    </tr>\n",
              "    <tr>\n",
              "      <th>KOKOROKO, Abusey Junction</th>\n",
              "      <td>17377514</td>\n",
              "      <td>289.625233</td>\n",
              "      <td>4.827087</td>\n",
              "    </tr>\n",
              "    <tr>\n",
              "      <th>Vulfpeck, Baby I Don’t Know Oh Oh (feat. Charles Jones)</th>\n",
              "      <td>14449878</td>\n",
              "      <td>240.831300</td>\n",
              "      <td>4.013855</td>\n",
              "    </tr>\n",
              "    <tr>\n",
              "      <th>New Order, Age of Consent - 2015 Remaster</th>\n",
              "      <td>12862872</td>\n",
              "      <td>214.381200</td>\n",
              "      <td>3.573020</td>\n",
              "    </tr>\n",
              "    <tr>\n",
              "      <th>The Happy Fits, Too Late</th>\n",
              "      <td>12021252</td>\n",
              "      <td>200.354200</td>\n",
              "      <td>3.339237</td>\n",
              "    </tr>\n",
              "  </tbody>\n",
              "</table>\n",
              "</div>"
            ],
            "text/plain": [
              "                                                    msPlayed  ...  hrsPlayed\n",
              "id                                                            ...           \n",
              "Lawrence, Freckles                                  20245668  ...   5.623797\n",
              "KOKOROKO, Abusey Junction                           17377514  ...   4.827087\n",
              "Vulfpeck, Baby I Don’t Know Oh Oh (feat. Charle...  14449878  ...   4.013855\n",
              "New Order, Age of Consent - 2015 Remaster           12862872  ...   3.573020\n",
              "The Happy Fits, Too Late                            12021252  ...   3.339237\n",
              "\n",
              "[5 rows x 3 columns]"
            ]
          },
          "metadata": {
            "tags": []
          },
          "execution_count": 7
        }
      ]
    },
    {
      "cell_type": "markdown",
      "metadata": {
        "id": "QdZ_jJsah2s1"
      },
      "source": [
        " #### <font color='red'>Add data visualization here</font>  \n"
      ]
    },
    {
      "cell_type": "markdown",
      "metadata": {
        "id": "GP31qYzhh2s1"
      },
      "source": [
        "### Playlist Data <a class=\"anchor\" id=\"c\"></a>"
      ]
    },
    {
      "cell_type": "code",
      "metadata": {
        "id": "JzsAI4S9h2s1"
      },
      "source": [
        "with open('drive/MyDrive/my_spotify_data/Playlist1.json') as f:\n",
        "    playlist_data = json.load(f)\n",
        "playlists=playlist_data['playlists']\n",
        "playlist_network=[]\n",
        "PLS={}\n",
        "df_PL={}\n",
        "\n",
        "for playlist in playlists: \n",
        "    PL=[]\n",
        "    name=playlist['name']\n",
        "    items=playlist['items'] #Grabbing all songs in the playlist\n",
        "    for item in items: #for each song\n",
        "        try:\n",
        "            song=item['track']['trackName']+\", \"+item['track']['albumName'] #grab the song and album to make an ID\n",
        "            if song in df_PL:\n",
        "              df_PL[song][4]+=1\n",
        "              df_PL[song][5].append(name)\n",
        "            else:\n",
        "              uri_=item['track']['trackUri'] #grabbing uri statement\n",
        "              uri=uri_.split(':')[2] #split it by : since there's unnecessary text and just grab the uri\n",
        "              df_PL[song]= [item['track']['trackName'], item['track']['albumName'],  item['track']['artistName'], uri,  1 , [name]]\n",
        "        except:\n",
        "            song=\"ERROR\" # if there's a nonetype, just make it error idk i'll fix it if there's a lot of them\n",
        "        PL.append(song) #add the song id to a list called PL\n",
        "        #now gathering data for node specific stuff for the URI and stuff\n",
        "        \n",
        "    PLS[name]=PL #add each playllist (PL) to a list of playlists\n",
        "order=['song','album','artist','uri','instances']"
      ],
      "execution_count": 59,
      "outputs": []
    },
    {
      "cell_type": "code",
      "metadata": {
        "colab": {
          "base_uri": "https://localhost:8080/",
          "height": 289
        },
        "id": "Wo1zAY486yKC",
        "outputId": "608cbf7d-9bfd-4605-f42d-9276efb045bb"
      },
      "source": [
        "df_pl=pd.DataFrame.from_dict(df_PL, orient='index') \n",
        "df_pl=df_pl.rename(columns= {0:'song', 1:'album',2:'artist', 3:'uri',4:'instances',5:'playlists'})\n",
        "df_pl.head()\n"
      ],
      "execution_count": 116,
      "outputs": [
        {
          "output_type": "execute_result",
          "data": {
            "text/html": [
              "<div>\n",
              "<style scoped>\n",
              "    .dataframe tbody tr th:only-of-type {\n",
              "        vertical-align: middle;\n",
              "    }\n",
              "\n",
              "    .dataframe tbody tr th {\n",
              "        vertical-align: top;\n",
              "    }\n",
              "\n",
              "    .dataframe thead th {\n",
              "        text-align: right;\n",
              "    }\n",
              "</style>\n",
              "<table border=\"1\" class=\"dataframe\">\n",
              "  <thead>\n",
              "    <tr style=\"text-align: right;\">\n",
              "      <th></th>\n",
              "      <th>song</th>\n",
              "      <th>album</th>\n",
              "      <th>artist</th>\n",
              "      <th>uri</th>\n",
              "      <th>instances</th>\n",
              "      <th>playlists</th>\n",
              "    </tr>\n",
              "  </thead>\n",
              "  <tbody>\n",
              "    <tr>\n",
              "      <th>Navajo, Navajo</th>\n",
              "      <td>Navajo</td>\n",
              "      <td>Navajo</td>\n",
              "      <td>Masego</td>\n",
              "      <td>6zWU7YALeEDMcPGhKKZJhV</td>\n",
              "      <td>4</td>\n",
              "      <td>[Iykyk, These have no common theme other than ...</td>\n",
              "    </tr>\n",
              "    <tr>\n",
              "      <th>Wasn't Looking, A Real Romantic</th>\n",
              "      <td>Wasn't Looking</td>\n",
              "      <td>A Real Romantic</td>\n",
              "      <td>ELIZA</td>\n",
              "      <td>7kw7eF5H8qLQU0IxbT2gq6</td>\n",
              "      <td>3</td>\n",
              "      <td>[Iykyk, These have no common theme other than ...</td>\n",
              "    </tr>\n",
              "    <tr>\n",
              "      <th>Tadow, Lady Lady</th>\n",
              "      <td>Tadow</td>\n",
              "      <td>Lady Lady</td>\n",
              "      <td>Masego</td>\n",
              "      <td>51rPRW8NjxZoWPPjnRGzHw</td>\n",
              "      <td>6</td>\n",
              "      <td>[Iykyk, These have no common theme other than ...</td>\n",
              "    </tr>\n",
              "    <tr>\n",
              "      <th>Cola, Cola</th>\n",
              "      <td>Cola</td>\n",
              "      <td>Cola</td>\n",
              "      <td>Arlo Parks</td>\n",
              "      <td>0i6c86ntKJoZpKk8aCHL3c</td>\n",
              "      <td>7</td>\n",
              "      <td>[Iykyk, fuck, man, ok ok ok , These have no co...</td>\n",
              "    </tr>\n",
              "    <tr>\n",
              "      <th>Crossfire / So Into You, Needle Paw</th>\n",
              "      <td>Crossfire / So Into You</td>\n",
              "      <td>Needle Paw</td>\n",
              "      <td>Nai Palm</td>\n",
              "      <td>2VsKJODsXzU1NtoFYIh9FM</td>\n",
              "      <td>2</td>\n",
              "      <td>[Iykyk, White Washed + a Sax (Sex)]</td>\n",
              "    </tr>\n",
              "  </tbody>\n",
              "</table>\n",
              "</div>"
            ],
            "text/plain": [
              "                                                        song  ...                                          playlists\n",
              "Navajo, Navajo                                        Navajo  ...  [Iykyk, These have no common theme other than ...\n",
              "Wasn't Looking, A Real Romantic               Wasn't Looking  ...  [Iykyk, These have no common theme other than ...\n",
              "Tadow, Lady Lady                                       Tadow  ...  [Iykyk, These have no common theme other than ...\n",
              "Cola, Cola                                              Cola  ...  [Iykyk, fuck, man, ok ok ok , These have no co...\n",
              "Crossfire / So Into You, Needle Paw  Crossfire / So Into You  ...                [Iykyk, White Washed + a Sax (Sex)]\n",
              "\n",
              "[5 rows x 6 columns]"
            ]
          },
          "metadata": {
            "tags": []
          },
          "execution_count": 116
        }
      ]
    },
    {
      "cell_type": "code",
      "metadata": {
        "id": "z3BE-CvJ-WfG"
      },
      "source": [
        "#getting URIS to retrieve data\n",
        "uris=list(df_pl['uri'])"
      ],
      "execution_count": 61,
      "outputs": []
    },
    {
      "cell_type": "markdown",
      "metadata": {
        "id": "JRRnSxsx-Yck"
      },
      "source": [
        "## Networks perspective"
      ]
    },
    {
      "cell_type": "code",
      "metadata": {
        "id": "WgO4sd_yh2s2"
      },
      "source": [
        "## Creating data for network view x\n",
        "##This takes a while- need to find how to make it take less time\n",
        "edges=[]\n",
        "for PL in PLS.keys(): #for each playlist in that list of playlists\n",
        "    for song in PLS[PL]:  #grab one song\n",
        "        for song1 in PLS[PL]: #then grab another song from that same list\n",
        "            if song != song1:  #make sure those songs aren't the same \n",
        "                if (song, song1, {'playlist': PL}) not in edges:  #then add song 1 and song 2 to the edges, if theyre not already there\n",
        "                    edges.append((song, song1,{'playlist': PL}))"
      ],
      "execution_count": 14,
      "outputs": []
    },
    {
      "cell_type": "code",
      "metadata": {
        "id": "cSAjFO3Ih2s2",
        "colab": {
          "base_uri": "https://localhost:8080/"
        },
        "outputId": "14407f69-4222-4e85-9a9c-eaca0cc0821d"
      },
      "source": [
        "edges[0]"
      ],
      "execution_count": 15,
      "outputs": [
        {
          "output_type": "execute_result",
          "data": {
            "text/plain": [
              "('Navajo, Navajo', \"Wasn't Looking, A Real Romantic\", {'playlist': 'Iykyk'})"
            ]
          },
          "metadata": {
            "tags": []
          },
          "execution_count": 15
        }
      ]
    },
    {
      "cell_type": "code",
      "metadata": {
        "id": "q2RTqUA6h2s2"
      },
      "source": [
        ""
      ],
      "execution_count": null,
      "outputs": []
    },
    {
      "cell_type": "markdown",
      "metadata": {
        "id": "nLFuJd6nh2s3"
      },
      "source": [
        "It looks like no two songs are in two or more playlists together, therefore, I am going to disregard weight"
      ]
    },
    {
      "cell_type": "markdown",
      "metadata": {
        "id": "St3vBeibh2s3"
      },
      "source": [
        "### Song Network"
      ]
    },
    {
      "cell_type": "code",
      "metadata": {
        "id": "Tq35cbj-h2s3",
        "colab": {
          "base_uri": "https://localhost:8080/"
        },
        "outputId": "7117fbeb-4c84-4b52-f3c0-f754965edce9"
      },
      "source": [
        "#creating network\n",
        "import networkx as nx\n",
        "G = nx.Graph()\n",
        "G.add_edges_from(edges)\n",
        "\n",
        "#making sure there's edge data\n",
        "G.get_edge_data('Navajo, Navajo', 'If You Want Me to Stay, Fresh') \n"
      ],
      "execution_count": 16,
      "outputs": [
        {
          "output_type": "execute_result",
          "data": {
            "text/plain": [
              "{'playlist': 'These have no common theme other than being the best'}"
            ]
          },
          "metadata": {
            "tags": []
          },
          "execution_count": 16
        }
      ]
    },
    {
      "cell_type": "code",
      "metadata": {
        "scrolled": false,
        "id": "ekS1Rokih2s4",
        "colab": {
          "base_uri": "https://localhost:8080/",
          "height": 248
        },
        "outputId": "06bc8328-82f0-483b-93e9-42a39af97458"
      },
      "source": [
        "#drawing network\n",
        "import random\n",
        "playlist_names=list(PLS.keys())\n",
        "color_map={}\n",
        "for i in range(len(playlist_names)):\n",
        "    color = \"%06x\" % random.randint(0, 0xFFFFFF)\n",
        "    color_map[playlist_names[i]]=\"#\"+color \n",
        "n_colors = [color_map[G.get_edge_data(u,v)[\"playlist\"]] for u, v in list(G.edges())]\n",
        "drawing=nx.draw_networkx(G,node_color = 'k', edge_color = n_colors, with_labels=False, node_size=10)"
      ],
      "execution_count": 20,
      "outputs": [
        {
          "output_type": "display_data",
          "data": {
            "image/png": "[encoded data removed]",
            "text/plain": [
              "<Figure size 432x288 with 1 Axes>"
            ]
          },
          "metadata": {
            "tags": []
          }
        }
      ]
    },
    {
      "cell_type": "code",
      "metadata": {
        "scrolled": true,
        "id": "Yguwlfdeh2s5",
        "outputId": "852467d7-440b-4f49-c7e1-8db68b68fcd3"
      },
      "source": [
        "print(nx.info(G))\n",
        "print('1. # Nodes: ',  len(G.nodes()))\n",
        "print('2. # Edges: ',  len(G.edges()))\n",
        "print('4. average shortest path', nx.average_shortest_path_length(G) )\n",
        "print('5. average degree: ', float(nx.info(G).split('\\n')[-1][17:]))\n",
        "print('6. average clustering coefficient: ', nx.average_clustering(G) )"
      ],
      "execution_count": null,
      "outputs": [
        {
          "output_type": "stream",
          "text": [
            "1. # Nodes:  539\n",
            "2. # Edges:  20953\n",
            "4. average shortest path 2.134635942920595\n",
            "5. average degree:  77.7477\n",
            "6. average clustering coefficient:  0.886831885883536\n"
          ],
          "name": "stdout"
        }
      ]
    },
    {
      "cell_type": "markdown",
      "metadata": {
        "id": "nMiGNnHEh2s6"
      },
      "source": [
        "betweeness "
      ]
    },
    {
      "cell_type": "markdown",
      "metadata": {
        "id": "CdfkhBMFZ0Du"
      },
      "source": [
        "### Artist Network "
      ]
    },
    {
      "cell_type": "code",
      "metadata": {
        "id": "LOyAAlyxh2s6"
      },
      "source": [
        ""
      ],
      "execution_count": null,
      "outputs": []
    },
    {
      "cell_type": "markdown",
      "metadata": {
        "id": "fICT8LH6h2s6"
      },
      "source": [
        "# Spotify API requests\n"
      ]
    },
    {
      "cell_type": "code",
      "metadata": {
        "id": "ZJfjZXKeh2s6"
      },
      "source": [
        "import requests\n",
        "import json\n",
        "import urllib\n",
        "import time\n",
        "import numpy as np\n",
        "import pandas as pd\n",
        "import pickle\n",
        "import multiprocessing\n",
        "from concurrent.futures import ThreadPoolExecutor\n"
      ],
      "execution_count": 34,
      "outputs": []
    },
    {
      "cell_type": "code",
      "metadata": {
        "id": "1sWSo_aNh2s7"
      },
      "source": [
        "CLIENT_ID = open(\"drive/MyDrive/my_spotify_data/secrets.txt\").read().splitlines()[0]\n",
        "CLIENT_SECRET = open(\"drive/MyDrive/my_spotify_data/secrets.txt\").read().splitlines()[1]"
      ],
      "execution_count": 36,
      "outputs": []
    },
    {
      "cell_type": "code",
      "metadata": {
        "id": "d_YjBfYziAQ9"
      },
      "source": [
        "def authenticate(client_id,client_secret):\n",
        "\n",
        "\tAUTH_URL = 'https://accounts.spotify.com/api/token'\n",
        "\t\n",
        "\t#POST\n",
        "\tauth_response = requests.post(AUTH_URL,{\n",
        "\t\t'grant_type': 'client_credentials',\n",
        "\t\t'client_id': client_id,\n",
        "\t\t'client_secret': client_secret})\n",
        "\n",
        "\t# save the access token\n",
        "\taccess_token = auth_response.json()['access_token']\n",
        "\treturn access_token\n"
      ],
      "execution_count": 37,
      "outputs": []
    },
    {
      "cell_type": "code",
      "metadata": {
        "id": "x4ya3vddiAJE"
      },
      "source": [
        "def getsong_details(uri,headers):\n",
        "\turl = \"https://api.spotify.com/v1/audio-features/{item}\".format(item = uri)\n",
        "\tresults = {}\n",
        "\ttry:\n",
        "\t\tr = requests.get(url, headers = headers).text\n",
        "\t\t#print(r)\n",
        "\t\tj = json.loads(r)\n",
        "\t\t# results.append((\n",
        "\t\t# \tj['danceability'],j['energy'],j['key'],j['mode'],j['acousticness'],j['instrumentalness'],\n",
        "\t\t# \tj['tempo'],j[\"valence\"],j[\"speechiness\"],j[\"loudness\"]))\n",
        "\t\tresults[\"danceability\"] = j['danceability']\n",
        "\t\tresults[\"energy\"] = j['energy']\n",
        "\t\tresults[\"key\"] = j['key']\n",
        "\t\tresults[\"mode\"] = j['mode']\n",
        "\t\tresults[\"acousticness\"] = j['acousticness']\n",
        "\t\tresults[\"instrumentalness\"] = j['instrumentalness']\n",
        "\t\tresults[\"tempo\"] = j['tempo']\n",
        "\t\tresults[\"valence\"] = j['valence']\n",
        "\t\tresults[\"speechiness\"] = j['speechiness']\n",
        "\t\tresults[\"loudness\"] = j['loudness']\n",
        "\n",
        "\texcept:\n",
        "\t\treturn \"error\"\n",
        "\n",
        "\treturn results"
      ],
      "execution_count": 166,
      "outputs": []
    },
    {
      "cell_type": "code",
      "metadata": {
        "colab": {
          "base_uri": "https://localhost:8080/"
        },
        "id": "BSvdECDuiABR",
        "outputId": "acc7fc4b-1c57-4837-e982-3e9644119549"
      },
      "source": [
        "access_token=authenticate(CLIENT_ID,CLIENT_SECRET)\n",
        "headers = {'Authorization': 'Bearer {token}'.format(token=access_token)}\n",
        "\n",
        "#results test\n",
        "getsong_details(uris[0], headers)"
      ],
      "execution_count": 167,
      "outputs": [
        {
          "output_type": "execute_result",
          "data": {
            "text/plain": [
              "{'acousticness': 0.117,\n",
              " 'danceability': 0.567,\n",
              " 'energy': 0.593,\n",
              " 'instrumentalness': 1.32e-06,\n",
              " 'key': 6,\n",
              " 'loudness': -7.404,\n",
              " 'mode': 0,\n",
              " 'speechiness': 0.288,\n",
              " 'tempo': 88.545,\n",
              " 'valence': 0.358}"
            ]
          },
          "metadata": {
            "tags": []
          },
          "execution_count": 167
        }
      ]
    },
    {
      "cell_type": "markdown",
      "metadata": {
        "id": "3no9K3H7l6Ll"
      },
      "source": [
        "### Adding Spotify API Data to DF"
      ]
    },
    {
      "cell_type": "code",
      "metadata": {
        "id": "q8mhjslUmMKd"
      },
      "source": [
        "def populate_details(row):\n",
        "  uri=row['uri']\n",
        "  uri=uri.to_string().split(\"    \")[1]\n",
        "  d=getsong_details(uri, headers)\n",
        "  row['acousticness']=d['acousticness']\n",
        "  row['danceability']=d['danceability']\n",
        "  row['energy']=d['energy']\n",
        "  row['key']=d['key']\n",
        "  row['loudness']=d['loudness']\n",
        "  row['mode']=d['mode']\n",
        "  row['speechiness']=d['speechiness']\n",
        "  row['tempo']=d['tempo']\n",
        "  row['valence']=d['valence']\n"
      ],
      "execution_count": 153,
      "outputs": []
    },
    {
      "cell_type": "code",
      "metadata": {
        "id": "TxF7sokHBzWa"
      },
      "source": [
        "def populate_details(uri):\n",
        "  d=getsong_details(uri, headers)\n",
        "  acousticness=d['acousticness']\n",
        "  danceability=d['danceability']\n",
        "  energy=d['energy']\n",
        "  key=d['key']\n",
        "  loudness=d['loudness']\n",
        "  mode=d['mode']\n",
        "  speechiness=d['speechiness']\n",
        "  tempo=d['tempo']\n",
        "  valence=d['valence']\n",
        "  return [acousticness, danceability, energy, key, loudness, mode, speechiness, tempo, valence]\n"
      ],
      "execution_count": 158,
      "outputs": []
    },
    {
      "cell_type": "code",
      "metadata": {
        "colab": {
          "base_uri": "https://localhost:8080/"
        },
        "id": "7C_fCKZkCTRK",
        "outputId": "c13f25e0-0e00-433b-ee04-116772a867ab"
      },
      "source": [
        "populate_details(uri)"
      ],
      "execution_count": 176,
      "outputs": [
        {
          "output_type": "execute_result",
          "data": {
            "text/plain": [
              "[0.117, 0.567, 0.593, 6, -7.404, 0, 0.288, 88.545, 0.358]"
            ]
          },
          "metadata": {
            "tags": []
          },
          "execution_count": 176
        }
      ]
    },
    {
      "cell_type": "markdown",
      "metadata": {
        "id": "PFezNuaeEPZJ"
      },
      "source": [
        "Gathering Data 100 at a Time"
      ]
    },
    {
      "cell_type": "code",
      "metadata": {
        "id": "xi5ZdUGP_63B"
      },
      "source": [
        "song_data={}\n",
        "for uri in uris[0:100]:\n",
        "  song_data[uri] =populate_details(uri)"
      ],
      "execution_count": 187,
      "outputs": []
    },
    {
      "cell_type": "code",
      "metadata": {
        "id": "MXNNN-r6EScP"
      },
      "source": [
        "for uri in uris[100:200]:\n",
        "  song_data[uri] =populate_details(uri)"
      ],
      "execution_count": 189,
      "outputs": []
    },
    {
      "cell_type": "code",
      "metadata": {
        "id": "x95VXYvFEbRE"
      },
      "source": [
        "for uri in uris[200:300]:\n",
        "  song_data[uri] =populate_details(uri)"
      ],
      "execution_count": 191,
      "outputs": []
    },
    {
      "cell_type": "code",
      "metadata": {
        "id": "uV7HeFweEc8I"
      },
      "source": [
        "for uri in uris[300:400]:\n",
        "  song_data[uri] =populate_details(uri)"
      ],
      "execution_count": null,
      "outputs": []
    },
    {
      "cell_type": "code",
      "metadata": {
        "id": "vPHc9nz1EqBV"
      },
      "source": [
        "for uri in uris[400:500]:\n",
        "  song_data[uri] =populate_details(uri)"
      ],
      "execution_count": 196,
      "outputs": []
    },
    {
      "cell_type": "code",
      "metadata": {
        "id": "kHlvLr03EsOi"
      },
      "source": [
        "for uri in uris[500:538]:\n",
        "  song_data[uri] =populate_details(uri)\n",
        "df_song_data=pd.DataFrame.from_dict(song_data, orient='index')  "
      ],
      "execution_count": 218,
      "outputs": []
    },
    {
      "cell_type": "code",
      "metadata": {
        "colab": {
          "base_uri": "https://localhost:8080/",
          "height": 204
        },
        "id": "n9QWA7_8D94O",
        "outputId": "0822b874-5734-4b49-da62-9639abd3f48f"
      },
      "source": [
        "df_song_data=df_song_data.rename(columns={0:'acousticness',1:'danceability',2:'energy',3:'key',\n",
        "                             4:'loudness', 5:'mode', 6:'speechiness', 7:'tempo',8:'valence' }) \n",
        "df_song_data.head()"
      ],
      "execution_count": 219,
      "outputs": [
        {
          "output_type": "execute_result",
          "data": {
            "text/html": [
              "<div>\n",
              "<style scoped>\n",
              "    .dataframe tbody tr th:only-of-type {\n",
              "        vertical-align: middle;\n",
              "    }\n",
              "\n",
              "    .dataframe tbody tr th {\n",
              "        vertical-align: top;\n",
              "    }\n",
              "\n",
              "    .dataframe thead th {\n",
              "        text-align: right;\n",
              "    }\n",
              "</style>\n",
              "<table border=\"1\" class=\"dataframe\">\n",
              "  <thead>\n",
              "    <tr style=\"text-align: right;\">\n",
              "      <th></th>\n",
              "      <th>acousticness</th>\n",
              "      <th>danceability</th>\n",
              "      <th>energy</th>\n",
              "      <th>key</th>\n",
              "      <th>loudness</th>\n",
              "      <th>mode</th>\n",
              "      <th>speechiness</th>\n",
              "      <th>tempo</th>\n",
              "      <th>valence</th>\n",
              "    </tr>\n",
              "  </thead>\n",
              "  <tbody>\n",
              "    <tr>\n",
              "      <th>6zWU7YALeEDMcPGhKKZJhV</th>\n",
              "      <td>0.1170</td>\n",
              "      <td>0.567</td>\n",
              "      <td>0.593</td>\n",
              "      <td>6</td>\n",
              "      <td>-7.404</td>\n",
              "      <td>0</td>\n",
              "      <td>0.2880</td>\n",
              "      <td>88.545</td>\n",
              "      <td>0.358</td>\n",
              "    </tr>\n",
              "    <tr>\n",
              "      <th>7kw7eF5H8qLQU0IxbT2gq6</th>\n",
              "      <td>0.0858</td>\n",
              "      <td>0.845</td>\n",
              "      <td>0.176</td>\n",
              "      <td>5</td>\n",
              "      <td>-9.973</td>\n",
              "      <td>0</td>\n",
              "      <td>0.0598</td>\n",
              "      <td>82.004</td>\n",
              "      <td>0.587</td>\n",
              "    </tr>\n",
              "    <tr>\n",
              "      <th>51rPRW8NjxZoWPPjnRGzHw</th>\n",
              "      <td>0.6690</td>\n",
              "      <td>0.704</td>\n",
              "      <td>0.487</td>\n",
              "      <td>9</td>\n",
              "      <td>-6.407</td>\n",
              "      <td>0</td>\n",
              "      <td>0.0604</td>\n",
              "      <td>121.726</td>\n",
              "      <td>0.313</td>\n",
              "    </tr>\n",
              "    <tr>\n",
              "      <th>0i6c86ntKJoZpKk8aCHL3c</th>\n",
              "      <td>0.1980</td>\n",
              "      <td>0.814</td>\n",
              "      <td>0.742</td>\n",
              "      <td>4</td>\n",
              "      <td>-10.520</td>\n",
              "      <td>0</td>\n",
              "      <td>0.2400</td>\n",
              "      <td>75.451</td>\n",
              "      <td>0.587</td>\n",
              "    </tr>\n",
              "    <tr>\n",
              "      <th>2VsKJODsXzU1NtoFYIh9FM</th>\n",
              "      <td>0.9250</td>\n",
              "      <td>0.484</td>\n",
              "      <td>0.367</td>\n",
              "      <td>9</td>\n",
              "      <td>-8.459</td>\n",
              "      <td>1</td>\n",
              "      <td>0.0374</td>\n",
              "      <td>81.038</td>\n",
              "      <td>0.377</td>\n",
              "    </tr>\n",
              "  </tbody>\n",
              "</table>\n",
              "</div>"
            ],
            "text/plain": [
              "                        acousticness  danceability  ...    tempo  valence\n",
              "6zWU7YALeEDMcPGhKKZJhV        0.1170         0.567  ...   88.545    0.358\n",
              "7kw7eF5H8qLQU0IxbT2gq6        0.0858         0.845  ...   82.004    0.587\n",
              "51rPRW8NjxZoWPPjnRGzHw        0.6690         0.704  ...  121.726    0.313\n",
              "0i6c86ntKJoZpKk8aCHL3c        0.1980         0.814  ...   75.451    0.587\n",
              "2VsKJODsXzU1NtoFYIh9FM        0.9250         0.484  ...   81.038    0.377\n",
              "\n",
              "[5 rows x 9 columns]"
            ]
          },
          "metadata": {
            "tags": []
          },
          "execution_count": 219
        }
      ]
    },
    {
      "cell_type": "markdown",
      "metadata": {
        "id": "l1XIxn8Eh2s9"
      },
      "source": [
        "# Data Unification   <a class=\"anchor\" id=\"second-bullet\"></a>"
      ]
    },
    {
      "cell_type": "code",
      "metadata": {
        "id": "KUDVZvp3Giqt"
      },
      "source": [
        "### ONLY RUN THIS CELL ONCE OTHERWISE IT'LL KEEP ADDING COLUMNS OF INDEXES\n",
        "df_song_data.reset_index(level=0, inplace=True)"
      ],
      "execution_count": null,
      "outputs": []
    },
    {
      "cell_type": "code",
      "metadata": {
        "colab": {
          "base_uri": "https://localhost:8080/",
          "height": 204
        },
        "id": "Ve50Eh-HFmIT",
        "outputId": "ef9bb631-83ed-48c7-ddb5-872f35110b78"
      },
      "source": [
        "df_song_data=df_song_data.rename(columns={'index':'uri'} )\n",
        "df_song_data.head()"
      ],
      "execution_count": 222,
      "outputs": [
        {
          "output_type": "execute_result",
          "data": {
            "text/html": [
              "<div>\n",
              "<style scoped>\n",
              "    .dataframe tbody tr th:only-of-type {\n",
              "        vertical-align: middle;\n",
              "    }\n",
              "\n",
              "    .dataframe tbody tr th {\n",
              "        vertical-align: top;\n",
              "    }\n",
              "\n",
              "    .dataframe thead th {\n",
              "        text-align: right;\n",
              "    }\n",
              "</style>\n",
              "<table border=\"1\" class=\"dataframe\">\n",
              "  <thead>\n",
              "    <tr style=\"text-align: right;\">\n",
              "      <th></th>\n",
              "      <th>uri</th>\n",
              "      <th>acousticness</th>\n",
              "      <th>danceability</th>\n",
              "      <th>energy</th>\n",
              "      <th>key</th>\n",
              "      <th>loudness</th>\n",
              "      <th>mode</th>\n",
              "      <th>speechiness</th>\n",
              "      <th>tempo</th>\n",
              "      <th>valence</th>\n",
              "    </tr>\n",
              "  </thead>\n",
              "  <tbody>\n",
              "    <tr>\n",
              "      <th>0</th>\n",
              "      <td>6zWU7YALeEDMcPGhKKZJhV</td>\n",
              "      <td>0.1170</td>\n",
              "      <td>0.567</td>\n",
              "      <td>0.593</td>\n",
              "      <td>6</td>\n",
              "      <td>-7.404</td>\n",
              "      <td>0</td>\n",
              "      <td>0.2880</td>\n",
              "      <td>88.545</td>\n",
              "      <td>0.358</td>\n",
              "    </tr>\n",
              "    <tr>\n",
              "      <th>1</th>\n",
              "      <td>7kw7eF5H8qLQU0IxbT2gq6</td>\n",
              "      <td>0.0858</td>\n",
              "      <td>0.845</td>\n",
              "      <td>0.176</td>\n",
              "      <td>5</td>\n",
              "      <td>-9.973</td>\n",
              "      <td>0</td>\n",
              "      <td>0.0598</td>\n",
              "      <td>82.004</td>\n",
              "      <td>0.587</td>\n",
              "    </tr>\n",
              "    <tr>\n",
              "      <th>2</th>\n",
              "      <td>51rPRW8NjxZoWPPjnRGzHw</td>\n",
              "      <td>0.6690</td>\n",
              "      <td>0.704</td>\n",
              "      <td>0.487</td>\n",
              "      <td>9</td>\n",
              "      <td>-6.407</td>\n",
              "      <td>0</td>\n",
              "      <td>0.0604</td>\n",
              "      <td>121.726</td>\n",
              "      <td>0.313</td>\n",
              "    </tr>\n",
              "    <tr>\n",
              "      <th>3</th>\n",
              "      <td>0i6c86ntKJoZpKk8aCHL3c</td>\n",
              "      <td>0.1980</td>\n",
              "      <td>0.814</td>\n",
              "      <td>0.742</td>\n",
              "      <td>4</td>\n",
              "      <td>-10.520</td>\n",
              "      <td>0</td>\n",
              "      <td>0.2400</td>\n",
              "      <td>75.451</td>\n",
              "      <td>0.587</td>\n",
              "    </tr>\n",
              "    <tr>\n",
              "      <th>4</th>\n",
              "      <td>2VsKJODsXzU1NtoFYIh9FM</td>\n",
              "      <td>0.9250</td>\n",
              "      <td>0.484</td>\n",
              "      <td>0.367</td>\n",
              "      <td>9</td>\n",
              "      <td>-8.459</td>\n",
              "      <td>1</td>\n",
              "      <td>0.0374</td>\n",
              "      <td>81.038</td>\n",
              "      <td>0.377</td>\n",
              "    </tr>\n",
              "  </tbody>\n",
              "</table>\n",
              "</div>"
            ],
            "text/plain": [
              "                      uri  acousticness  ...    tempo  valence\n",
              "0  6zWU7YALeEDMcPGhKKZJhV        0.1170  ...   88.545    0.358\n",
              "1  7kw7eF5H8qLQU0IxbT2gq6        0.0858  ...   82.004    0.587\n",
              "2  51rPRW8NjxZoWPPjnRGzHw        0.6690  ...  121.726    0.313\n",
              "3  0i6c86ntKJoZpKk8aCHL3c        0.1980  ...   75.451    0.587\n",
              "4  2VsKJODsXzU1NtoFYIh9FM        0.9250  ...   81.038    0.377\n",
              "\n",
              "[5 rows x 10 columns]"
            ]
          },
          "metadata": {
            "tags": []
          },
          "execution_count": 222
        }
      ]
    },
    {
      "cell_type": "code",
      "metadata": {
        "colab": {
          "base_uri": "https://localhost:8080/",
          "height": 289
        },
        "id": "1yPAsea2Fn21",
        "outputId": "63f3e710-5f33-4ed8-b0ab-3158ae26239c"
      },
      "source": [
        "df_pl.head()"
      ],
      "execution_count": 206,
      "outputs": [
        {
          "output_type": "execute_result",
          "data": {
            "text/html": [
              "<div>\n",
              "<style scoped>\n",
              "    .dataframe tbody tr th:only-of-type {\n",
              "        vertical-align: middle;\n",
              "    }\n",
              "\n",
              "    .dataframe tbody tr th {\n",
              "        vertical-align: top;\n",
              "    }\n",
              "\n",
              "    .dataframe thead th {\n",
              "        text-align: right;\n",
              "    }\n",
              "</style>\n",
              "<table border=\"1\" class=\"dataframe\">\n",
              "  <thead>\n",
              "    <tr style=\"text-align: right;\">\n",
              "      <th></th>\n",
              "      <th>song</th>\n",
              "      <th>album</th>\n",
              "      <th>artist</th>\n",
              "      <th>uri</th>\n",
              "      <th>instances</th>\n",
              "      <th>playlists</th>\n",
              "    </tr>\n",
              "  </thead>\n",
              "  <tbody>\n",
              "    <tr>\n",
              "      <th>Navajo, Navajo</th>\n",
              "      <td>Navajo</td>\n",
              "      <td>Navajo</td>\n",
              "      <td>Masego</td>\n",
              "      <td>6zWU7YALeEDMcPGhKKZJhV</td>\n",
              "      <td>4</td>\n",
              "      <td>[Iykyk, These have no common theme other than ...</td>\n",
              "    </tr>\n",
              "    <tr>\n",
              "      <th>Wasn't Looking, A Real Romantic</th>\n",
              "      <td>Wasn't Looking</td>\n",
              "      <td>A Real Romantic</td>\n",
              "      <td>ELIZA</td>\n",
              "      <td>7kw7eF5H8qLQU0IxbT2gq6</td>\n",
              "      <td>3</td>\n",
              "      <td>[Iykyk, These have no common theme other than ...</td>\n",
              "    </tr>\n",
              "    <tr>\n",
              "      <th>Tadow, Lady Lady</th>\n",
              "      <td>Tadow</td>\n",
              "      <td>Lady Lady</td>\n",
              "      <td>Masego</td>\n",
              "      <td>51rPRW8NjxZoWPPjnRGzHw</td>\n",
              "      <td>6</td>\n",
              "      <td>[Iykyk, These have no common theme other than ...</td>\n",
              "    </tr>\n",
              "    <tr>\n",
              "      <th>Cola, Cola</th>\n",
              "      <td>Cola</td>\n",
              "      <td>Cola</td>\n",
              "      <td>Arlo Parks</td>\n",
              "      <td>0i6c86ntKJoZpKk8aCHL3c</td>\n",
              "      <td>7</td>\n",
              "      <td>[Iykyk, fuck, man, ok ok ok , These have no co...</td>\n",
              "    </tr>\n",
              "    <tr>\n",
              "      <th>Crossfire / So Into You, Needle Paw</th>\n",
              "      <td>Crossfire / So Into You</td>\n",
              "      <td>Needle Paw</td>\n",
              "      <td>Nai Palm</td>\n",
              "      <td>2VsKJODsXzU1NtoFYIh9FM</td>\n",
              "      <td>2</td>\n",
              "      <td>[Iykyk, White Washed + a Sax (Sex)]</td>\n",
              "    </tr>\n",
              "  </tbody>\n",
              "</table>\n",
              "</div>"
            ],
            "text/plain": [
              "                                                        song  ...                                          playlists\n",
              "Navajo, Navajo                                        Navajo  ...  [Iykyk, These have no common theme other than ...\n",
              "Wasn't Looking, A Real Romantic               Wasn't Looking  ...  [Iykyk, These have no common theme other than ...\n",
              "Tadow, Lady Lady                                       Tadow  ...  [Iykyk, These have no common theme other than ...\n",
              "Cola, Cola                                              Cola  ...  [Iykyk, fuck, man, ok ok ok , These have no co...\n",
              "Crossfire / So Into You, Needle Paw  Crossfire / So Into You  ...                [Iykyk, White Washed + a Sax (Sex)]\n",
              "\n",
              "[5 rows x 6 columns]"
            ]
          },
          "metadata": {
            "tags": []
          },
          "execution_count": 206
        }
      ]
    },
    {
      "cell_type": "code",
      "metadata": {
        "colab": {
          "base_uri": "https://localhost:8080/"
        },
        "id": "bKYB8X5NFtEg",
        "outputId": "4ea3a619-89bc-4ef4-c2e7-752bcfc24c27"
      },
      "source": [
        "result = pd.merge(df_pl,df_song_data, on=\"uri\")\n",
        "result.info()"
      ],
      "execution_count": 225,
      "outputs": [
        {
          "output_type": "stream",
          "text": [
            "<class 'pandas.core.frame.DataFrame'>\n",
            "Int64Index: 538 entries, 0 to 537\n",
            "Data columns (total 15 columns):\n",
            " #   Column        Non-Null Count  Dtype  \n",
            "---  ------        --------------  -----  \n",
            " 0   song          538 non-null    object \n",
            " 1   album         538 non-null    object \n",
            " 2   artist        538 non-null    object \n",
            " 3   uri           538 non-null    object \n",
            " 4   instances     538 non-null    int64  \n",
            " 5   playlists     538 non-null    object \n",
            " 6   acousticness  538 non-null    float64\n",
            " 7   danceability  538 non-null    float64\n",
            " 8   energy        538 non-null    float64\n",
            " 9   key           538 non-null    int64  \n",
            " 10  loudness      538 non-null    float64\n",
            " 11  mode          538 non-null    int64  \n",
            " 12  speechiness   538 non-null    float64\n",
            " 13  tempo         538 non-null    float64\n",
            " 14  valence       538 non-null    float64\n",
            "dtypes: float64(7), int64(3), object(5)\n",
            "memory usage: 67.2+ KB\n"
          ],
          "name": "stdout"
        }
      ]
    },
    {
      "cell_type": "markdown",
      "metadata": {
        "id": "olVi7HYzh2s9"
      },
      "source": [
        "Ideal data structure:\n",
        "Nodes List: \n",
        "Index. Spotify ID. Song. Feature 1. Feature 2. Feature 3  "
      ]
    },
    {
      "cell_type": "markdown",
      "metadata": {
        "id": "iTD366QQh2s9"
      },
      "source": [
        "^^Add each feature into the node feature to visualize results based on features."
      ]
    },
    {
      "cell_type": "markdown",
      "metadata": {
        "id": "Di8Qiwyzh2s-"
      },
      "source": [
        "# Export Data to Tableau / PowerBI for Visualizations"
      ]
    },
    {
      "cell_type": "code",
      "metadata": {
        "id": "eJ6t3FAYh2s-"
      },
      "source": [
        "#all listening data\n",
        "df.to_csv('all_listening_data.csv')\n",
        "\n",
        "#songs network data\n",
        "edges.to_csv('song_network.csv')\n",
        "\n",
        "#artists network data\n",
        "df.to_csv('artist_network.csv')\n",
        "\n",
        "#all playlist data\n",
        "result.to_csv('plalist_data.csv')\n",
        "\n"
      ],
      "execution_count": null,
      "outputs": []
    },
    {
      "cell_type": "code",
      "metadata": {
        "id": "iURCsdBhY3Kr"
      },
      "source": [
        "from google.colab import files\n",
        "files.download(\"all_listening_data.csv\",'song_network.csv','artist_network.csv','plalist_data.csv')"
      ],
      "execution_count": null,
      "outputs": []
    },
    {
      "cell_type": "markdown",
      "metadata": {
        "id": "YW_-RkPucAzl"
      },
      "source": [
        "# Code Graveyard"
      ]
    },
    {
      "cell_type": "code",
      "metadata": {
        "id": "s3h60ulpcAn6"
      },
      "source": [
        ""
      ],
      "execution_count": null,
      "outputs": []
    },
    {
      "cell_type": "code",
      "metadata": {
        "id": "bW6Qi7C9cAbS"
      },
      "source": [
        "##### kinda obsolete because of inclusion of playlist in tuple\n",
        "#TRYING TO GET WEIGHTS (IF THE SAME TWO SONGS ARE IN MORE THAN ONE PLAYLIST)\n",
        "edges[0]\n",
        "e= pd.DataFrame(edges) #making it a df so i can get the weights of the edges\n",
        "e['edge']= e[0] + \"--\" +e[1] #creating an ID to groupby\n",
        "e['weight']=1 # adding a weight initial of 1 per edge\n",
        "e=e.drop(columns=[0,1]) #dropping other columns so it's easier to deal with\n",
        "sort=e.groupby('edge').sum() #grouping by edge, and summing the weight. Any repeat instances will have a \n",
        "#weight that is the sum of the instances\n",
        "sort=sort.sort_values(by='weight',ascending=False) #sorting it so you can see the highest weight\n",
        "sort.head(3)"
      ],
      "execution_count": null,
      "outputs": []
    },
    {
      "cell_type": "code",
      "metadata": {
        "id": "TMlIntQHl6mQ"
      },
      "source": [
        "index = df_pl.index\n",
        "num_of_rows = len(index)\n",
        "for i in range(num_of_rows):\n",
        "  if i==0:\n",
        "    pass\n",
        "  else: \n",
        "    a=i-1\n",
        "    df_pl[a:i].apply(lambda x: populate_details(x))\n",
        "  \n",
        "\n"
      ],
      "execution_count": null,
      "outputs": []
    }
  ]
}