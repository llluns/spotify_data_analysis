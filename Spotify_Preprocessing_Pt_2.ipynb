{
 "cells": [
  {
   "cell_type": "markdown",
   "metadata": {},
   "source": [
    "# Second Round Data Analysis"
   ]
  },
  {
   "cell_type": "code",
   "execution_count": 344,
   "metadata": {},
   "outputs": [],
   "source": [
    "import pandas as pd\n",
    "import seaborn as sns\n",
    "import pytz"
   ]
  },
  {
   "cell_type": "code",
   "execution_count": 345,
   "metadata": {},
   "outputs": [],
   "source": [
    "df = pd.read_csv('Output/all_listening_data.csv')\n",
    "pl = pd.read_csv('Output/playlist_data.csv')"
   ]
  },
  {
   "cell_type": "code",
   "execution_count": null,
   "metadata": {},
   "outputs": [],
   "source": []
  },
  {
   "cell_type": "markdown",
   "metadata": {},
   "source": [
    "## Merge Existing Datasets"
   ]
  },
  {
   "cell_type": "code",
   "execution_count": 346,
   "metadata": {},
   "outputs": [
    {
     "data": {
      "text/html": [
       "<div>\n",
       "<style scoped>\n",
       "    .dataframe tbody tr th:only-of-type {\n",
       "        vertical-align: middle;\n",
       "    }\n",
       "\n",
       "    .dataframe tbody tr th {\n",
       "        vertical-align: top;\n",
       "    }\n",
       "\n",
       "    .dataframe thead th {\n",
       "        text-align: right;\n",
       "    }\n",
       "</style>\n",
       "<table border=\"1\" class=\"dataframe\">\n",
       "  <thead>\n",
       "    <tr style=\"text-align: right;\">\n",
       "      <th></th>\n",
       "      <th>endTime</th>\n",
       "      <th>artistName</th>\n",
       "      <th>trackName</th>\n",
       "      <th>msPlayed</th>\n",
       "      <th>id</th>\n",
       "    </tr>\n",
       "  </thead>\n",
       "  <tbody>\n",
       "    <tr>\n",
       "      <th>0</th>\n",
       "      <td>2020-07-11 00:19</td>\n",
       "      <td>Russian Cursive</td>\n",
       "      <td>Backwards</td>\n",
       "      <td>179813</td>\n",
       "      <td>Russian Cursive, Backwards</td>\n",
       "    </tr>\n",
       "    <tr>\n",
       "      <th>1</th>\n",
       "      <td>2020-07-11 00:32</td>\n",
       "      <td>Russian Cursive</td>\n",
       "      <td>Backwards</td>\n",
       "      <td>179813</td>\n",
       "      <td>Russian Cursive, Backwards</td>\n",
       "    </tr>\n",
       "    <tr>\n",
       "      <th>2</th>\n",
       "      <td>2020-07-11 03:37</td>\n",
       "      <td>Russian Cursive</td>\n",
       "      <td>Backwards</td>\n",
       "      <td>113963</td>\n",
       "      <td>Russian Cursive, Backwards</td>\n",
       "    </tr>\n",
       "    <tr>\n",
       "      <th>3</th>\n",
       "      <td>2020-07-11 06:40</td>\n",
       "      <td>Toro y Moi</td>\n",
       "      <td>Mirage</td>\n",
       "      <td>114282</td>\n",
       "      <td>Toro y Moi, Mirage</td>\n",
       "    </tr>\n",
       "    <tr>\n",
       "      <th>4</th>\n",
       "      <td>2020-07-11 06:42</td>\n",
       "      <td>Aru-2</td>\n",
       "      <td>Dwell</td>\n",
       "      <td>137142</td>\n",
       "      <td>Aru-2, Dwell</td>\n",
       "    </tr>\n",
       "  </tbody>\n",
       "</table>\n",
       "</div>"
      ],
      "text/plain": [
       "            endTime       artistName  trackName  msPlayed  \\\n",
       "0  2020-07-11 00:19  Russian Cursive  Backwards    179813   \n",
       "1  2020-07-11 00:32  Russian Cursive  Backwards    179813   \n",
       "2  2020-07-11 03:37  Russian Cursive  Backwards    113963   \n",
       "3  2020-07-11 06:40       Toro y Moi     Mirage    114282   \n",
       "4  2020-07-11 06:42            Aru-2      Dwell    137142   \n",
       "\n",
       "                           id  \n",
       "0  Russian Cursive, Backwards  \n",
       "1  Russian Cursive, Backwards  \n",
       "2  Russian Cursive, Backwards  \n",
       "3          Toro y Moi, Mirage  \n",
       "4                Aru-2, Dwell  "
      ]
     },
     "execution_count": 346,
     "metadata": {},
     "output_type": "execute_result"
    }
   ],
   "source": [
    "df['id']=df['artistName']+\", \"+ df['trackName']\n",
    "df=df.drop(columns=['Unnamed: 0'])\n",
    "\n",
    "df.head()\n"
   ]
  },
  {
   "cell_type": "markdown",
   "metadata": {},
   "source": [
    "## Time Analysis"
   ]
  },
  {
   "cell_type": "markdown",
   "metadata": {},
   "source": [
    "#### Listening frequency by time of day"
   ]
  },
  {
   "cell_type": "markdown",
   "metadata": {},
   "source": [
    "#### Feature frequency by time of day (Excluded to songs on my playlist) "
   ]
  },
  {
   "cell_type": "code",
   "execution_count": 347,
   "metadata": {},
   "outputs": [
    {
     "data": {
      "text/html": [
       "<div>\n",
       "<style scoped>\n",
       "    .dataframe tbody tr th:only-of-type {\n",
       "        vertical-align: middle;\n",
       "    }\n",
       "\n",
       "    .dataframe tbody tr th {\n",
       "        vertical-align: top;\n",
       "    }\n",
       "\n",
       "    .dataframe thead th {\n",
       "        text-align: right;\n",
       "    }\n",
       "</style>\n",
       "<table border=\"1\" class=\"dataframe\">\n",
       "  <thead>\n",
       "    <tr style=\"text-align: right;\">\n",
       "      <th></th>\n",
       "      <th>endTime</th>\n",
       "      <th>artistName</th>\n",
       "      <th>trackName</th>\n",
       "      <th>msPlayed</th>\n",
       "      <th>id</th>\n",
       "      <th>TimeOfDay</th>\n",
       "      <th>Year</th>\n",
       "      <th>Month</th>\n",
       "      <th>Day</th>\n",
       "      <th>Hour</th>\n",
       "      <th>Minute</th>\n",
       "    </tr>\n",
       "  </thead>\n",
       "  <tbody>\n",
       "    <tr>\n",
       "      <th>0</th>\n",
       "      <td>2020-07-11 00:19</td>\n",
       "      <td>Russian Cursive</td>\n",
       "      <td>Backwards</td>\n",
       "      <td>179813</td>\n",
       "      <td>Russian Cursive, Backwards</td>\n",
       "      <td>afternoon</td>\n",
       "      <td>2020</td>\n",
       "      <td>7</td>\n",
       "      <td>11</td>\n",
       "      <td>0</td>\n",
       "      <td>19</td>\n",
       "    </tr>\n",
       "    <tr>\n",
       "      <th>1</th>\n",
       "      <td>2020-07-11 00:32</td>\n",
       "      <td>Russian Cursive</td>\n",
       "      <td>Backwards</td>\n",
       "      <td>179813</td>\n",
       "      <td>Russian Cursive, Backwards</td>\n",
       "      <td>afternoon</td>\n",
       "      <td>2020</td>\n",
       "      <td>7</td>\n",
       "      <td>11</td>\n",
       "      <td>0</td>\n",
       "      <td>32</td>\n",
       "    </tr>\n",
       "    <tr>\n",
       "      <th>2</th>\n",
       "      <td>2020-07-11 03:37</td>\n",
       "      <td>Russian Cursive</td>\n",
       "      <td>Backwards</td>\n",
       "      <td>113963</td>\n",
       "      <td>Russian Cursive, Backwards</td>\n",
       "      <td>evening</td>\n",
       "      <td>2020</td>\n",
       "      <td>7</td>\n",
       "      <td>11</td>\n",
       "      <td>3</td>\n",
       "      <td>37</td>\n",
       "    </tr>\n",
       "    <tr>\n",
       "      <th>3</th>\n",
       "      <td>2020-07-11 06:40</td>\n",
       "      <td>Toro y Moi</td>\n",
       "      <td>Mirage</td>\n",
       "      <td>114282</td>\n",
       "      <td>Toro y Moi, Mirage</td>\n",
       "      <td>evening</td>\n",
       "      <td>2020</td>\n",
       "      <td>7</td>\n",
       "      <td>11</td>\n",
       "      <td>6</td>\n",
       "      <td>40</td>\n",
       "    </tr>\n",
       "    <tr>\n",
       "      <th>4</th>\n",
       "      <td>2020-07-11 06:42</td>\n",
       "      <td>Aru-2</td>\n",
       "      <td>Dwell</td>\n",
       "      <td>137142</td>\n",
       "      <td>Aru-2, Dwell</td>\n",
       "      <td>evening</td>\n",
       "      <td>2020</td>\n",
       "      <td>7</td>\n",
       "      <td>11</td>\n",
       "      <td>6</td>\n",
       "      <td>42</td>\n",
       "    </tr>\n",
       "  </tbody>\n",
       "</table>\n",
       "</div>"
      ],
      "text/plain": [
       "            endTime       artistName  trackName  msPlayed  \\\n",
       "0  2020-07-11 00:19  Russian Cursive  Backwards    179813   \n",
       "1  2020-07-11 00:32  Russian Cursive  Backwards    179813   \n",
       "2  2020-07-11 03:37  Russian Cursive  Backwards    113963   \n",
       "3  2020-07-11 06:40       Toro y Moi     Mirage    114282   \n",
       "4  2020-07-11 06:42            Aru-2      Dwell    137142   \n",
       "\n",
       "                           id  TimeOfDay  Year  Month  Day  Hour  Minute  \n",
       "0  Russian Cursive, Backwards  afternoon  2020      7   11     0      19  \n",
       "1  Russian Cursive, Backwards  afternoon  2020      7   11     0      32  \n",
       "2  Russian Cursive, Backwards    evening  2020      7   11     3      37  \n",
       "3          Toro y Moi, Mirage    evening  2020      7   11     6      40  \n",
       "4                Aru-2, Dwell    evening  2020      7   11     6      42  "
      ]
     },
     "execution_count": 347,
     "metadata": {},
     "output_type": "execute_result"
    }
   ],
   "source": [
    "#bucketing times \n",
    "times=list(df['endTime'])\n",
    "hours=[]\n",
    "minutes=[]\n",
    "days=[]\n",
    "months=[]\n",
    "years=[]\n",
    "for time in times:\n",
    "    result=time.split('-')\n",
    "    year=int(result[0])\n",
    "    years.append(year)\n",
    "    month=int(result[1])\n",
    "    months.append(month)\n",
    "    result1=result[2].split(' ')\n",
    "    day=int(result1[0])\n",
    "    days.append(day)\n",
    "    result2=result1[1].split(':')\n",
    "    hour=int(result2[0])\n",
    "    hours.append(hour)\n",
    "    minute=int(result2[1])\n",
    "    minutes.append(minute)\n",
    "    \n",
    "df['TimeOfDay']=bucket\n",
    "df['Year']=years\n",
    "df['Month']=months\n",
    "df['Day']=days\n",
    "df['Hour']=hours\n",
    "df['Minute']=minutes\n",
    "df.head()"
   ]
  },
  {
   "cell_type": "code",
   "execution_count": 348,
   "metadata": {},
   "outputs": [
    {
     "data": {
      "image/png": "[encoded data removed]",
      "text/plain": [
       "<Figure size 432x288 with 1 Axes>"
      ]
     },
     "metadata": {},
     "output_type": "display_data"
    }
   ],
   "source": [
    "%matplotlib inline\n",
    "plt.style.use('ggplot')\n",
    "\n",
    "\n",
    "x_pos = [i for i, _ in enumerate(x)]\n",
    "\n",
    "plt.hist(df['Hour'])\n",
    "plt.xlabel(\"Hour\")\n",
    "plt.ylabel(\"# Of Songs Played\")\n",
    "plt.title(\"Listening Time Distribution (Pre Time Zone Adjustment)\")\n",
    "\n",
    "plt.show()"
   ]
  },
  {
   "cell_type": "markdown",
   "metadata": {},
   "source": [
    "### Adjusting for time zones"
   ]
  },
  {
   "cell_type": "markdown",
   "metadata": {},
   "source": [
    "Ok so we're not told which timezone this is recorded in.  My guess is that for standardization they're using GMT 0. I'm making this guess based on the visual data showing me that my least frequent listening period is around the afternoon which is counter-intuititve to what I know I do. Based on this, I am going to adjust all times where I was roughly in California by 8 hours (the time difference between GMT and PST) and all the dates where I was in Michigan by 5 hours (also the time difference).  Because I don't know the to the minute dates, I'm going to roughly estimate dates "
   ]
  },
  {
   "cell_type": "markdown",
   "metadata": {},
   "source": [
    "Know we know the frame of time this was collecetd in, we can go back and find the rough estimates for my time in Michigan.\n",
    "\n",
    "PCT: 2020-07-11\n",
    "\n",
    "EST: 2020-08-06\n",
    "\n",
    "PCT: 2020-11-23\n",
    "\n",
    "EST: 2020-12-30\n",
    "\n",
    "PCT: 2021-01-31\n",
    "\n",
    "So i'll have to adjust PT to -8, and EST to -5 "
   ]
  },
  {
   "cell_type": "code",
   "execution_count": 349,
   "metadata": {
    "scrolled": false
   },
   "outputs": [
    {
     "data": {
      "text/html": [
       "<div>\n",
       "<style scoped>\n",
       "    .dataframe tbody tr th:only-of-type {\n",
       "        vertical-align: middle;\n",
       "    }\n",
       "\n",
       "    .dataframe tbody tr th {\n",
       "        vertical-align: top;\n",
       "    }\n",
       "\n",
       "    .dataframe thead th {\n",
       "        text-align: right;\n",
       "    }\n",
       "</style>\n",
       "<table border=\"1\" class=\"dataframe\">\n",
       "  <thead>\n",
       "    <tr style=\"text-align: right;\">\n",
       "      <th></th>\n",
       "      <th>endTime</th>\n",
       "      <th>artistName</th>\n",
       "      <th>trackName</th>\n",
       "      <th>msPlayed</th>\n",
       "      <th>id</th>\n",
       "      <th>TimeOfDay</th>\n",
       "      <th>Year</th>\n",
       "      <th>Month</th>\n",
       "      <th>Day</th>\n",
       "      <th>Hour</th>\n",
       "      <th>Minute</th>\n",
       "    </tr>\n",
       "  </thead>\n",
       "  <tbody>\n",
       "    <tr>\n",
       "      <th>0</th>\n",
       "      <td>2020-07-10 17:19:00-07:00</td>\n",
       "      <td>Russian Cursive</td>\n",
       "      <td>Backwards</td>\n",
       "      <td>179813</td>\n",
       "      <td>Russian Cursive, Backwards</td>\n",
       "      <td>afternoon</td>\n",
       "      <td>2020</td>\n",
       "      <td>7</td>\n",
       "      <td>11</td>\n",
       "      <td>0</td>\n",
       "      <td>19</td>\n",
       "    </tr>\n",
       "    <tr>\n",
       "      <th>1</th>\n",
       "      <td>2020-07-10 17:32:00-07:00</td>\n",
       "      <td>Russian Cursive</td>\n",
       "      <td>Backwards</td>\n",
       "      <td>179813</td>\n",
       "      <td>Russian Cursive, Backwards</td>\n",
       "      <td>afternoon</td>\n",
       "      <td>2020</td>\n",
       "      <td>7</td>\n",
       "      <td>11</td>\n",
       "      <td>0</td>\n",
       "      <td>32</td>\n",
       "    </tr>\n",
       "    <tr>\n",
       "      <th>2</th>\n",
       "      <td>2020-07-10 20:37:00-07:00</td>\n",
       "      <td>Russian Cursive</td>\n",
       "      <td>Backwards</td>\n",
       "      <td>113963</td>\n",
       "      <td>Russian Cursive, Backwards</td>\n",
       "      <td>evening</td>\n",
       "      <td>2020</td>\n",
       "      <td>7</td>\n",
       "      <td>11</td>\n",
       "      <td>3</td>\n",
       "      <td>37</td>\n",
       "    </tr>\n",
       "    <tr>\n",
       "      <th>3</th>\n",
       "      <td>2020-07-10 23:40:00-07:00</td>\n",
       "      <td>Toro y Moi</td>\n",
       "      <td>Mirage</td>\n",
       "      <td>114282</td>\n",
       "      <td>Toro y Moi, Mirage</td>\n",
       "      <td>evening</td>\n",
       "      <td>2020</td>\n",
       "      <td>7</td>\n",
       "      <td>11</td>\n",
       "      <td>6</td>\n",
       "      <td>40</td>\n",
       "    </tr>\n",
       "    <tr>\n",
       "      <th>4</th>\n",
       "      <td>2020-07-10 23:42:00-07:00</td>\n",
       "      <td>Aru-2</td>\n",
       "      <td>Dwell</td>\n",
       "      <td>137142</td>\n",
       "      <td>Aru-2, Dwell</td>\n",
       "      <td>evening</td>\n",
       "      <td>2020</td>\n",
       "      <td>7</td>\n",
       "      <td>11</td>\n",
       "      <td>6</td>\n",
       "      <td>42</td>\n",
       "    </tr>\n",
       "  </tbody>\n",
       "</table>\n",
       "</div>"
      ],
      "text/plain": [
       "                     endTime       artistName  trackName  msPlayed  \\\n",
       "0  2020-07-10 17:19:00-07:00  Russian Cursive  Backwards    179813   \n",
       "1  2020-07-10 17:32:00-07:00  Russian Cursive  Backwards    179813   \n",
       "2  2020-07-10 20:37:00-07:00  Russian Cursive  Backwards    113963   \n",
       "3  2020-07-10 23:40:00-07:00       Toro y Moi     Mirage    114282   \n",
       "4  2020-07-10 23:42:00-07:00            Aru-2      Dwell    137142   \n",
       "\n",
       "                           id  TimeOfDay  Year  Month  Day  Hour  Minute  \n",
       "0  Russian Cursive, Backwards  afternoon  2020      7   11     0      19  \n",
       "1  Russian Cursive, Backwards  afternoon  2020      7   11     0      32  \n",
       "2  Russian Cursive, Backwards    evening  2020      7   11     3      37  \n",
       "3          Toro y Moi, Mirage    evening  2020      7   11     6      40  \n",
       "4                Aru-2, Dwell    evening  2020      7   11     6      42  "
      ]
     },
     "execution_count": 349,
     "metadata": {},
     "output_type": "execute_result"
    }
   ],
   "source": [
    "df['endTime']=pd.to_datetime(df['endTime'])\n",
    "\n",
    "def localize (x):\n",
    "    local_tz = pytz.timezone('UTC') # setting time zone ot UTC \n",
    "    return(local_tz.localize(x))\n",
    "\n",
    "df['endTime']= df['endTime'].apply(lambda x: localize(x))\n",
    "\n",
    "\n",
    "end=len(df)-1\n",
    "#print(\"The start date of this data set is: \" + df['endTime'][0])\n",
    "#print(\"The end date of this data set is: \" + df['endTime'][end])\n",
    "\n",
    "\n",
    "#changing timezones according to when I am where\n",
    "PST = pytz.timezone('America/Los_Angeles')\n",
    "EST= pytz.timezone('America/Detroit')\n",
    "def change_timezone(x):\n",
    "    if x >pd.to_datetime('2020-09-06 00:00:00+0000') and x < pd.to_datetime('2020-11-23 00:00:00+0000') or x> pd.to_datetime('2020-12-30 00:00:00+0000')   and x< pd.to_datetime('2021-01-31 00:00:00+0000'):\n",
    "        return EST.normalize(x)\n",
    "    else:\n",
    "        return PST.normalize(x)\n",
    "\n",
    "df['endTime']=df['endTime'].apply(lambda x: change_timezone(x))\n",
    "df.head()\n"
   ]
  },
  {
   "cell_type": "code",
   "execution_count": 351,
   "metadata": {},
   "outputs": [
    {
     "data": {
      "image/png": "[encoded data removed]",
      "text/plain": [
       "<Figure size 432x288 with 1 Axes>"
      ]
     },
     "metadata": {},
     "output_type": "display_data"
    }
   ],
   "source": [
    "%matplotlib inline\n",
    "plt.style.use('ggplot')\n",
    "\n",
    "\n",
    "x_pos = [i for i, _ in enumerate(x)]\n",
    "\n",
    "plt.hist(df['Hour'], color='skyblue')\n",
    "plt.xlabel(\"Hour\")\n",
    "plt.ylabel(\"# Of Songs Played\")\n",
    "plt.title(\"Listening Distribution (Post Time Zone Adjustment)\")\n",
    "\n",
    "plt.show()"
   ]
  },
  {
   "cell_type": "code",
   "execution_count": 361,
   "metadata": {},
   "outputs": [],
   "source": [
    "#Getting day of week\n",
    "df['weekday']=df['endTime'].apply(lambda x: x.weekday())"
   ]
  },
  {
   "cell_type": "code",
   "execution_count": 362,
   "metadata": {},
   "outputs": [
    {
     "data": {
      "text/html": [
       "<div>\n",
       "<style scoped>\n",
       "    .dataframe tbody tr th:only-of-type {\n",
       "        vertical-align: middle;\n",
       "    }\n",
       "\n",
       "    .dataframe tbody tr th {\n",
       "        vertical-align: top;\n",
       "    }\n",
       "\n",
       "    .dataframe thead th {\n",
       "        text-align: right;\n",
       "    }\n",
       "</style>\n",
       "<table border=\"1\" class=\"dataframe\">\n",
       "  <thead>\n",
       "    <tr style=\"text-align: right;\">\n",
       "      <th></th>\n",
       "      <th>endTime</th>\n",
       "      <th>artistName</th>\n",
       "      <th>trackName</th>\n",
       "      <th>msPlayed</th>\n",
       "      <th>id</th>\n",
       "      <th>TimeOfDay</th>\n",
       "      <th>Year</th>\n",
       "      <th>Month</th>\n",
       "      <th>Day</th>\n",
       "      <th>Hour</th>\n",
       "      <th>Minute</th>\n",
       "      <th>norm</th>\n",
       "      <th>lognorm</th>\n",
       "      <th>weekday</th>\n",
       "    </tr>\n",
       "  </thead>\n",
       "  <tbody>\n",
       "    <tr>\n",
       "      <th>0</th>\n",
       "      <td>2020-07-10 17:19:00-07:00</td>\n",
       "      <td>Russian Cursive</td>\n",
       "      <td>Backwards</td>\n",
       "      <td>179813</td>\n",
       "      <td>Russian Cursive, Backwards</td>\n",
       "      <td>afternoon</td>\n",
       "      <td>2020</td>\n",
       "      <td>7</td>\n",
       "      <td>10</td>\n",
       "      <td>17</td>\n",
       "      <td>19</td>\n",
       "      <td>89907.0</td>\n",
       "      <td>11.406531</td>\n",
       "      <td>4</td>\n",
       "    </tr>\n",
       "    <tr>\n",
       "      <th>1</th>\n",
       "      <td>2020-07-10 17:32:00-07:00</td>\n",
       "      <td>Russian Cursive</td>\n",
       "      <td>Backwards</td>\n",
       "      <td>179813</td>\n",
       "      <td>Russian Cursive, Backwards</td>\n",
       "      <td>afternoon</td>\n",
       "      <td>2020</td>\n",
       "      <td>7</td>\n",
       "      <td>10</td>\n",
       "      <td>17</td>\n",
       "      <td>32</td>\n",
       "      <td>89907.0</td>\n",
       "      <td>11.406531</td>\n",
       "      <td>4</td>\n",
       "    </tr>\n",
       "    <tr>\n",
       "      <th>2</th>\n",
       "      <td>2020-07-10 20:37:00-07:00</td>\n",
       "      <td>Russian Cursive</td>\n",
       "      <td>Backwards</td>\n",
       "      <td>113963</td>\n",
       "      <td>Russian Cursive, Backwards</td>\n",
       "      <td>evening</td>\n",
       "      <td>2020</td>\n",
       "      <td>7</td>\n",
       "      <td>10</td>\n",
       "      <td>20</td>\n",
       "      <td>37</td>\n",
       "      <td>56982.0</td>\n",
       "      <td>10.950491</td>\n",
       "      <td>4</td>\n",
       "    </tr>\n",
       "    <tr>\n",
       "      <th>3</th>\n",
       "      <td>2020-07-10 23:40:00-07:00</td>\n",
       "      <td>Toro y Moi</td>\n",
       "      <td>Mirage</td>\n",
       "      <td>114282</td>\n",
       "      <td>Toro y Moi, Mirage</td>\n",
       "      <td>evening</td>\n",
       "      <td>2020</td>\n",
       "      <td>7</td>\n",
       "      <td>10</td>\n",
       "      <td>23</td>\n",
       "      <td>40</td>\n",
       "      <td>57141.5</td>\n",
       "      <td>10.953286</td>\n",
       "      <td>4</td>\n",
       "    </tr>\n",
       "    <tr>\n",
       "      <th>4</th>\n",
       "      <td>2020-07-10 23:42:00-07:00</td>\n",
       "      <td>Aru-2</td>\n",
       "      <td>Dwell</td>\n",
       "      <td>137142</td>\n",
       "      <td>Aru-2, Dwell</td>\n",
       "      <td>evening</td>\n",
       "      <td>2020</td>\n",
       "      <td>7</td>\n",
       "      <td>10</td>\n",
       "      <td>23</td>\n",
       "      <td>42</td>\n",
       "      <td>68571.5</td>\n",
       "      <td>11.135632</td>\n",
       "      <td>4</td>\n",
       "    </tr>\n",
       "  </tbody>\n",
       "</table>\n",
       "</div>"
      ],
      "text/plain": [
       "                     endTime       artistName  trackName  msPlayed  \\\n",
       "0  2020-07-10 17:19:00-07:00  Russian Cursive  Backwards    179813   \n",
       "1  2020-07-10 17:32:00-07:00  Russian Cursive  Backwards    179813   \n",
       "2  2020-07-10 20:37:00-07:00  Russian Cursive  Backwards    113963   \n",
       "3  2020-07-10 23:40:00-07:00       Toro y Moi     Mirage    114282   \n",
       "4  2020-07-10 23:42:00-07:00            Aru-2      Dwell    137142   \n",
       "\n",
       "                           id  TimeOfDay  Year  Month  Day  Hour  Minute  \\\n",
       "0  Russian Cursive, Backwards  afternoon  2020      7   10    17      19   \n",
       "1  Russian Cursive, Backwards  afternoon  2020      7   10    17      32   \n",
       "2  Russian Cursive, Backwards    evening  2020      7   10    20      37   \n",
       "3          Toro y Moi, Mirage    evening  2020      7   10    23      40   \n",
       "4                Aru-2, Dwell    evening  2020      7   10    23      42   \n",
       "\n",
       "      norm    lognorm  weekday  \n",
       "0  89907.0  11.406531        4  \n",
       "1  89907.0  11.406531        4  \n",
       "2  56982.0  10.950491        4  \n",
       "3  57141.5  10.953286        4  \n",
       "4  68571.5  11.135632        4  "
      ]
     },
     "execution_count": 362,
     "metadata": {},
     "output_type": "execute_result"
    }
   ],
   "source": [
    "#bucketing times \n",
    "times=list(df['endTime'])    \n",
    "hours=[]\n",
    "minutes=[]\n",
    "days=[]\n",
    "months=[]\n",
    "years=[]\n",
    "for time in times:\n",
    "    time=str(time)\n",
    "    result=time.split('-')\n",
    "    year=int(result[0])\n",
    "    years.append(year)\n",
    "    month=int(result[1])\n",
    "    months.append(month)\n",
    "    result1=result[2].split(' ')\n",
    "    day=int(result1[0])\n",
    "    days.append(day)\n",
    "    result2=result1[1].split(':')\n",
    "    hour=int(result2[0])\n",
    "    hours.append(hour)\n",
    "    minute=int(result2[1])\n",
    "    minutes.append(minute)\n",
    "    \n",
    "df['TimeOfDay']=bucket\n",
    "df['Year']=years\n",
    "df['Month']=months\n",
    "df['Day']=days\n",
    "df['Hour']=hours\n",
    "df['Minute']=minutes\n",
    "df.head()"
   ]
  },
  {
   "cell_type": "markdown",
   "metadata": {},
   "source": [
    "### Bucketing Times "
   ]
  },
  {
   "cell_type": "markdown",
   "metadata": {},
   "source": [
    "How times are bucketed:\n",
    "\n",
    "**morning:** 5  - 12\n",
    "\n",
    "**afternoon:** 12 - 17\n",
    "\n",
    "**evening:** 17 - 23\n",
    "\n",
    "**late night:** 23 - 5"
   ]
  },
  {
   "cell_type": "code",
   "execution_count": 353,
   "metadata": {},
   "outputs": [],
   "source": [
    "bucket=[]\n",
    "for hour in hours:\n",
    "    if hour > 5 and hour <12:\n",
    "            bucket.append('morning')\n",
    "    elif hour >=12 and hour < 18:\n",
    "        bucket.append('afternoon')\n",
    "    elif hour >=18 and hour <24:\n",
    "        bucket.append('evening')\n",
    "    elif hour >=24 or hour <=5:\n",
    "        bucket.append('late_night')\n",
    "    else:\n",
    "        bucket.append(hour)\n",
    "df['TimeOfDay']=bucket"
   ]
  },
  {
   "cell_type": "code",
   "execution_count": 354,
   "metadata": {},
   "outputs": [
    {
     "data": {
      "text/html": [
       "<div>\n",
       "<style scoped>\n",
       "    .dataframe tbody tr th:only-of-type {\n",
       "        vertical-align: middle;\n",
       "    }\n",
       "\n",
       "    .dataframe tbody tr th {\n",
       "        vertical-align: top;\n",
       "    }\n",
       "\n",
       "    .dataframe thead th {\n",
       "        text-align: right;\n",
       "    }\n",
       "</style>\n",
       "<table border=\"1\" class=\"dataframe\">\n",
       "  <thead>\n",
       "    <tr style=\"text-align: right;\">\n",
       "      <th></th>\n",
       "      <th>endTime</th>\n",
       "      <th>artistName</th>\n",
       "      <th>trackName</th>\n",
       "      <th>msPlayed</th>\n",
       "      <th>id</th>\n",
       "      <th>TimeOfDay</th>\n",
       "      <th>Year</th>\n",
       "      <th>Month</th>\n",
       "      <th>Day</th>\n",
       "      <th>Hour</th>\n",
       "      <th>Minute</th>\n",
       "    </tr>\n",
       "  </thead>\n",
       "  <tbody>\n",
       "    <tr>\n",
       "      <th>0</th>\n",
       "      <td>2020-07-10 17:19:00-07:00</td>\n",
       "      <td>Russian Cursive</td>\n",
       "      <td>Backwards</td>\n",
       "      <td>179813</td>\n",
       "      <td>Russian Cursive, Backwards</td>\n",
       "      <td>afternoon</td>\n",
       "      <td>2020</td>\n",
       "      <td>7</td>\n",
       "      <td>10</td>\n",
       "      <td>17</td>\n",
       "      <td>19</td>\n",
       "    </tr>\n",
       "    <tr>\n",
       "      <th>1</th>\n",
       "      <td>2020-07-10 17:32:00-07:00</td>\n",
       "      <td>Russian Cursive</td>\n",
       "      <td>Backwards</td>\n",
       "      <td>179813</td>\n",
       "      <td>Russian Cursive, Backwards</td>\n",
       "      <td>afternoon</td>\n",
       "      <td>2020</td>\n",
       "      <td>7</td>\n",
       "      <td>10</td>\n",
       "      <td>17</td>\n",
       "      <td>32</td>\n",
       "    </tr>\n",
       "    <tr>\n",
       "      <th>2</th>\n",
       "      <td>2020-07-10 20:37:00-07:00</td>\n",
       "      <td>Russian Cursive</td>\n",
       "      <td>Backwards</td>\n",
       "      <td>113963</td>\n",
       "      <td>Russian Cursive, Backwards</td>\n",
       "      <td>evening</td>\n",
       "      <td>2020</td>\n",
       "      <td>7</td>\n",
       "      <td>10</td>\n",
       "      <td>20</td>\n",
       "      <td>37</td>\n",
       "    </tr>\n",
       "    <tr>\n",
       "      <th>3</th>\n",
       "      <td>2020-07-10 23:40:00-07:00</td>\n",
       "      <td>Toro y Moi</td>\n",
       "      <td>Mirage</td>\n",
       "      <td>114282</td>\n",
       "      <td>Toro y Moi, Mirage</td>\n",
       "      <td>evening</td>\n",
       "      <td>2020</td>\n",
       "      <td>7</td>\n",
       "      <td>10</td>\n",
       "      <td>23</td>\n",
       "      <td>40</td>\n",
       "    </tr>\n",
       "    <tr>\n",
       "      <th>4</th>\n",
       "      <td>2020-07-10 23:42:00-07:00</td>\n",
       "      <td>Aru-2</td>\n",
       "      <td>Dwell</td>\n",
       "      <td>137142</td>\n",
       "      <td>Aru-2, Dwell</td>\n",
       "      <td>evening</td>\n",
       "      <td>2020</td>\n",
       "      <td>7</td>\n",
       "      <td>10</td>\n",
       "      <td>23</td>\n",
       "      <td>42</td>\n",
       "    </tr>\n",
       "  </tbody>\n",
       "</table>\n",
       "</div>"
      ],
      "text/plain": [
       "                     endTime       artistName  trackName  msPlayed  \\\n",
       "0  2020-07-10 17:19:00-07:00  Russian Cursive  Backwards    179813   \n",
       "1  2020-07-10 17:32:00-07:00  Russian Cursive  Backwards    179813   \n",
       "2  2020-07-10 20:37:00-07:00  Russian Cursive  Backwards    113963   \n",
       "3  2020-07-10 23:40:00-07:00       Toro y Moi     Mirage    114282   \n",
       "4  2020-07-10 23:42:00-07:00            Aru-2      Dwell    137142   \n",
       "\n",
       "                           id  TimeOfDay  Year  Month  Day  Hour  Minute  \n",
       "0  Russian Cursive, Backwards  afternoon  2020      7   10    17      19  \n",
       "1  Russian Cursive, Backwards  afternoon  2020      7   10    17      32  \n",
       "2  Russian Cursive, Backwards    evening  2020      7   10    20      37  \n",
       "3          Toro y Moi, Mirage    evening  2020      7   10    23      40  \n",
       "4                Aru-2, Dwell    evening  2020      7   10    23      42  "
      ]
     },
     "execution_count": 354,
     "metadata": {},
     "output_type": "execute_result"
    }
   ],
   "source": [
    "df.head()"
   ]
  },
  {
   "cell_type": "markdown",
   "metadata": {},
   "source": [
    "####  Favorite songs for each time of morning (bucketing times)\n"
   ]
  },
  {
   "cell_type": "code",
   "execution_count": 355,
   "metadata": {
    "scrolled": false
   },
   "outputs": [
    {
     "data": {
      "text/plain": [
       "TimeOfDay\n",
       "afternoon     1453279502\n",
       "evening       1234790558\n",
       "late_night     304723790\n",
       "morning        308349440\n",
       "Name: msPlayed, dtype: int64"
      ]
     },
     "execution_count": 355,
     "metadata": {},
     "output_type": "execute_result"
    }
   ],
   "source": [
    "pf=df.copy()\n",
    "pf=pf.groupby(['TimeOfDay']).sum() #summing by that unique id (so get total listen time on each song)\n",
    "pf['msPlayed'].head()\n",
    "\n",
    "#You cant get the average by doing .mean because it'll divide by number of instances of late night, etc. THat would just be looking \n",
    "#at how long I listen to an instance of a song on average in each bucket\n"
   ]
  },
  {
   "cell_type": "code",
   "execution_count": 356,
   "metadata": {
    "scrolled": false
   },
   "outputs": [
    {
     "data": {
      "image/png": "[encoded data removed]",
      "text/plain": [
       "<Figure size 432x288 with 1 Axes>"
      ]
     },
     "metadata": {},
     "output_type": "display_data"
    }
   ],
   "source": [
    "import matplotlib.pyplot as plt\n",
    "\n",
    "%matplotlib inline\n",
    "plt.style.use('ggplot')\n",
    "\n",
    "x_ = ['afternoon (12pm-5pm)', 'evening (6pm-11pm)', 'late night (12am-4am)', 'morning (6am-10am)']\n",
    "x = ['afternoon', 'evening', 'late night', 'morning']\n",
    "hrs = list(pf['msPlayed']/1000/60/60)\n",
    "\n",
    "x_pos = [i for i, _ in enumerate(x)]\n",
    "\n",
    "plt.bar(x_pos, hrs, color='green')\n",
    "plt.xlabel(\"Time of Day\")\n",
    "plt.ylabel(\"Total Time Played (in hours)\")\n",
    "plt.title(\"Listening Times by Time of Day\")\n",
    "\n",
    "plt.xticks(x_pos, x)\n",
    "\n",
    "plt.show()\n"
   ]
  },
  {
   "cell_type": "code",
   "execution_count": 370,
   "metadata": {},
   "outputs": [
    {
     "data": {
      "image/png": "[encoded data removed]",
      "text/plain": [
       "<Figure size 432x288 with 1 Axes>"
      ]
     },
     "metadata": {},
     "output_type": "display_data"
    }
   ],
   "source": [
    "import matplotlib.pyplot as plt\n",
    "\n",
    "%matplotlib inline\n",
    "plt.style.use('ggplot')\n",
    "\n",
    "x_ = ['afternoon (12pm-5pm)', 'evening (6pm-11pm)', 'late night (12am-4am)', 'morning (6am-10am)']\n",
    "x = ['afternoon', 'evening', 'late night', 'morning']\n",
    "hrs = list(pf['msPlayed']/1000/60/60/365) #divide by 365 to get average (since 365 days of data collected)\n",
    "\n",
    "x_pos = [i for i, _ in enumerate(x)]\n",
    "\n",
    "plt.bar(x_pos, hrs, color='skyblue')\n",
    "plt.xlabel(\"Time of Day\")\n",
    "plt.ylabel(\"Average Time Played (in hours)\")\n",
    "plt.title(\"Average Listening Times by Time of Day\")\n",
    "\n",
    "plt.xticks(x_pos, x)\n",
    "\n",
    "plt.show()\n"
   ]
  },
  {
   "cell_type": "markdown",
   "metadata": {},
   "source": [
    "All time buckets are 6 hour stints. Which means they're equal slices into my listening habits. From this basically, i really listen to music mostly in the evening and morning which makes much sense, since I often am not awake until 10am because of later classes.\n",
    "\n",
    "\n",
    "What is a little astounding is just how much music i'm listening to... nearly an hour in the afternoon and evening, and about half an hour in the late night and morning combined each day. "
   ]
  },
  {
   "cell_type": "code",
   "execution_count": 358,
   "metadata": {
    "scrolled": true
   },
   "outputs": [
    {
     "data": {
      "text/plain": [
       "array([[<AxesSubplot:title={'center':'afternoon'}>,\n",
       "        <AxesSubplot:title={'center':'evening'}>],\n",
       "       [<AxesSubplot:title={'center':'late_night'}>,\n",
       "        <AxesSubplot:title={'center':'morning'}>]], dtype=object)"
      ]
     },
     "execution_count": 358,
     "metadata": {},
     "output_type": "execute_result"
    },
    {
     "data": {
      "image/png": "[encoded data removed]",
      "text/plain": [
       "<Figure size 1440x1440 with 4 Axes>"
      ]
     },
     "metadata": {},
     "output_type": "display_data"
    }
   ],
   "source": [
    "#df['msPlayed'].hist(by=df['TimeOfDay'], figsize = [20,20], grid= True)\n",
    "import numpy as np\n",
    "df['norm'] = (1+df['msPlayed'])/2\n",
    "df['lognorm'] = np.log(df['norm'])\n",
    "df['msPlayed'].hist(by=df['TimeOfDay'], figsize = [20,20], grid= True, bins=100)"
   ]
  },
  {
   "cell_type": "markdown",
   "metadata": {},
   "source": [
    "my guess is that if we get rid of all the songs played for less than 15 seconds, that we'll get what looks like a normal distribution"
   ]
  },
  {
   "cell_type": "code",
   "execution_count": 359,
   "metadata": {
    "scrolled": false
   },
   "outputs": [
    {
     "name": "stderr",
     "output_type": "stream",
     "text": [
      "<ipython-input-359-75e28015592a>:4: SettingWithCopyWarning: \n",
      "A value is trying to be set on a copy of a slice from a DataFrame.\n",
      "Try using .loc[row_indexer,col_indexer] = value instead\n",
      "\n",
      "See the caveats in the documentation: https://pandas.pydata.org/pandas-docs/stable/user_guide/indexing.html#returning-a-view-versus-a-copy\n",
      "  rf['norm'] = (1+rf['msPlayed'])/2\n",
      "<ipython-input-359-75e28015592a>:5: SettingWithCopyWarning: \n",
      "A value is trying to be set on a copy of a slice from a DataFrame.\n",
      "Try using .loc[row_indexer,col_indexer] = value instead\n",
      "\n",
      "See the caveats in the documentation: https://pandas.pydata.org/pandas-docs/stable/user_guide/indexing.html#returning-a-view-versus-a-copy\n",
      "  rf['lognorm'] = np.log(rf['norm'])\n"
     ]
    },
    {
     "data": {
      "text/plain": [
       "array([[<AxesSubplot:title={'center':'afternoon'}>,\n",
       "        <AxesSubplot:title={'center':'evening'}>],\n",
       "       [<AxesSubplot:title={'center':'late_night'}>,\n",
       "        <AxesSubplot:title={'center':'morning'}>]], dtype=object)"
      ]
     },
     "execution_count": 359,
     "metadata": {},
     "output_type": "execute_result"
    },
    {
     "data": {
      "image/png": "[encoded data removed]",
      "text/plain": [
       "<Figure size 1440x1440 with 4 Axes>"
      ]
     },
     "metadata": {},
     "output_type": "display_data"
    }
   ],
   "source": [
    "#df['msPlayed'].hist(by=df['TimeOfDay'], figsize = [20,20], grid= True)\n",
    "import numpy as np\n",
    "rf=df[df['msPlayed']>25000]\n",
    "rf['norm'] = (1+rf['msPlayed'])/2\n",
    "rf['lognorm'] = np.log(rf['norm'])\n",
    "rf['msPlayed'].hist(by=rf['TimeOfDay'], figsize = [20,20], grid= True, bins=100)"
   ]
  },
  {
   "cell_type": "markdown",
   "metadata": {},
   "source": [
    "Ok so from this we can really just see that I skip songs at all times of the day-lol. Basically the 0's are just times in which I listened to maybe the first four chords then skipped. \n",
    "\n",
    "The data definitely looks more normal now, but the main exception are songs with very little playtime, which just means that I skip a lot of songs/ am very picky about my music which is kind of interesting. IT looks like that cutoff is somewhere around the 20 second mark but I'll do more exploring below\n",
    "\n",
    "**Insight:** I am very picky when it comes to music and skip songs a lot."
   ]
  },
  {
   "cell_type": "code",
   "execution_count": 280,
   "metadata": {},
   "outputs": [
    {
     "data": {
      "text/plain": [
       "array([[<AxesSubplot:title={'center':'afternoon'}>,\n",
       "        <AxesSubplot:title={'center':'evening'}>],\n",
       "       [<AxesSubplot:title={'center':'late_night'}>,\n",
       "        <AxesSubplot:title={'center':'morning'}>]], dtype=object)"
      ]
     },
     "execution_count": 280,
     "metadata": {},
     "output_type": "execute_result"
    },
    {
     "data": {
      "image/png": "[encoded data removed]",
      "text/plain": [
       "<Figure size 1440x1440 with 4 Axes>"
      ]
     },
     "metadata": {},
     "output_type": "display_data"
    }
   ],
   "source": [
    "rf=df[df['msPlayed']>30000]\n",
    "rf['msPlayed'].hist(by=rf['TimeOfDay'], figsize = [20,20], grid= True, bins=100)\n",
    "plt.hist(x_pos, energy, color='green')\n"
   ]
  },
  {
   "cell_type": "markdown",
   "metadata": {},
   "source": [
    "Find a way of hooking up the date to the day of the week to get day of the week insights- that'd be dope"
   ]
  },
  {
   "cell_type": "code",
   "execution_count": 366,
   "metadata": {},
   "outputs": [
    {
     "data": {
      "text/plain": [
       "weekday\n",
       "0    492520159\n",
       "1    494507107\n",
       "2    501969974\n",
       "3    413161866\n",
       "4    507624383\n",
       "Name: msPlayed, dtype: int64"
      ]
     },
     "execution_count": 366,
     "metadata": {},
     "output_type": "execute_result"
    }
   ],
   "source": [
    "day_of_week=df.copy()\n",
    "day_of_week=day_of_week.groupby(['weekday']).sum() #summing by that unique id (so get total listen time on each song)\n",
    "day_of_week['msPlayed'].head()"
   ]
  },
  {
   "cell_type": "code",
   "execution_count": 373,
   "metadata": {},
   "outputs": [
    {
     "data": {
      "image/png": "[encoded data removed]",
      "text/plain": [
       "<Figure size 432x288 with 1 Axes>"
      ]
     },
     "metadata": {},
     "output_type": "display_data"
    }
   ],
   "source": [
    "import matplotlib.pyplot as plt\n",
    "\n",
    "%matplotlib inline\n",
    "plt.style.use('ggplot')\n",
    "\n",
    "x = [ 'Monday', 'Tuesday', 'Wednesday','Thursday','Friday','Saturday','Sunday']\n",
    "hrs = list(day_of_week['msPlayed']/1000/60/60/52) #divide by 52 to get average bc that's num instances of each day in yr (appx)\n",
    "\n",
    "x_pos = [i for i, _ in enumerate(x)]\n",
    "plt.axes([0, 0.6, 1.5, 1])\n",
    "\n",
    "plt.bar(x_pos, hrs, color='skyblue')\n",
    "plt.xlabel(\"Day of Week\")\n",
    "plt.ylabel(\"Average Time Played (in hours)\")\n",
    "plt.title(\"Average Listening Times by Day of Week\")\n",
    "\n",
    "plt.xticks(x_pos, x)\n",
    "\n",
    "plt.show()\n"
   ]
  },
  {
   "cell_type": "markdown",
   "metadata": {},
   "source": [
    "Honestly this is substantially stranger than I expected.  I really thought you'd see more of a pattern. I have 0 clue why thursday is slightly less listening time. You could say saturday has less listening time because I'm theoretically out doing more things with friends on saturdays (as opposed to work which is where I like to listen to a lot of music)"
   ]
  },
  {
   "cell_type": "code",
   "execution_count": null,
   "metadata": {},
   "outputs": [],
   "source": [
    "import matplotlib.pyplot as plt\n",
    "import numpy as np\n",
    "\n",
    "\n",
    "labels = ['G1', 'G2', 'G3', 'G4', 'G5']\n",
    "men_means = [20, 34, 30, 35, 27]\n",
    "women_means = [25, 32, 34, 20, 25]\n",
    "\n",
    "x = np.arange(len(labels))  # the label locations\n",
    "width = 0.35  # the width of the bars\n",
    "\n",
    "fig, ax = plt.subplots()\n",
    "rects1 = ax.bar(x - width/2, men_means, width, label='Men')\n",
    "rects2 = ax.bar(x + width/2, women_means, width, label='Women')\n",
    "\n",
    "# Add some text for labels, title and custom x-axis tick labels, etc.\n",
    "ax.set_ylabel('Scores')\n",
    "ax.set_title('Scores by group and gender')\n",
    "ax.set_xticks(x)\n",
    "ax.set_xticklabels(labels)\n",
    "ax.legend()\n",
    "\n",
    "ax.bar_label(rects1, padding=3)\n",
    "ax.bar_label(rects2, padding=3)\n",
    "\n",
    "fig.tight_layout()\n",
    "\n",
    "plt.show()"
   ]
  },
  {
   "cell_type": "code",
   "execution_count": null,
   "metadata": {},
   "outputs": [],
   "source": [
    "import matplotlib.pyplot as plt\n",
    "\n",
    "%matplotlib inline\n",
    "plt.style.use('ggplot')\n",
    "\n",
    "x = [ 'Monday', 'Tuesday', 'Wednesday','Thursday','Friday','Saturday','Sunday']\n",
    "hrs = list(day_of_week['msPlayed']/1000/60/60/52) #divide by 52 to get average bc that's num instances of each day in yr (appx)\n",
    "\n",
    "x_pos = [i for i, _ in enumerate(x)]\n",
    "plt.axes([0, 0.6, 1.5, 1])\n",
    "\n",
    "plt.bar(x_pos, hrs, color='skyblue')\n",
    "plt.xlabel(\"Day of Week\")\n",
    "plt.ylabel(\"Average Time Played (in hours)\")\n",
    "plt.title(\"Average Listening Times by Day of Week\")\n",
    "\n",
    "plt.xticks(x_pos, x)\n",
    "\n",
    "plt.show()\n"
   ]
  },
  {
   "cell_type": "markdown",
   "metadata": {},
   "source": [
    "### Creating Dataset by All Listening Instances"
   ]
  },
  {
   "cell_type": "code",
   "execution_count": 386,
   "metadata": {},
   "outputs": [],
   "source": [
    "def weekday_name(x):\n",
    "    if x==0:\n",
    "        name=\"Monday\"\n",
    "    elif x==1:\n",
    "        name='Tuesday'\n",
    "    elif x==2:\n",
    "        name='Wednesday'\n",
    "    elif x==3:\n",
    "        name='Thurday'\n",
    "    elif x==4:\n",
    "        name='Friday'\n",
    "    elif x==5:\n",
    "        name='Saturday'\n",
    "    elif x==6:\n",
    "        name='Sunday'\n",
    "    return name\n"
   ]
  },
  {
   "cell_type": "code",
   "execution_count": 387,
   "metadata": {},
   "outputs": [
    {
     "data": {
      "text/html": [
       "<div>\n",
       "<style scoped>\n",
       "    .dataframe tbody tr th:only-of-type {\n",
       "        vertical-align: middle;\n",
       "    }\n",
       "\n",
       "    .dataframe tbody tr th {\n",
       "        vertical-align: top;\n",
       "    }\n",
       "\n",
       "    .dataframe thead th {\n",
       "        text-align: right;\n",
       "    }\n",
       "</style>\n",
       "<table border=\"1\" class=\"dataframe\">\n",
       "  <thead>\n",
       "    <tr style=\"text-align: right;\">\n",
       "      <th></th>\n",
       "      <th>endTime</th>\n",
       "      <th>artistName</th>\n",
       "      <th>trackName</th>\n",
       "      <th>msPlayed</th>\n",
       "      <th>id</th>\n",
       "      <th>TimeOfDay</th>\n",
       "      <th>Year</th>\n",
       "      <th>Month</th>\n",
       "      <th>Day</th>\n",
       "      <th>Hour</th>\n",
       "      <th>Minute</th>\n",
       "      <th>norm</th>\n",
       "      <th>lognorm</th>\n",
       "      <th>weekday</th>\n",
       "    </tr>\n",
       "  </thead>\n",
       "  <tbody>\n",
       "    <tr>\n",
       "      <th>0</th>\n",
       "      <td>2020-07-10 17:19:00-07:00</td>\n",
       "      <td>Russian Cursive</td>\n",
       "      <td>Backwards</td>\n",
       "      <td>179813</td>\n",
       "      <td>Russian Cursive, Backwards</td>\n",
       "      <td>afternoon</td>\n",
       "      <td>2020</td>\n",
       "      <td>7</td>\n",
       "      <td>10</td>\n",
       "      <td>17</td>\n",
       "      <td>19</td>\n",
       "      <td>89907.0</td>\n",
       "      <td>11.406531</td>\n",
       "      <td>Friday</td>\n",
       "    </tr>\n",
       "    <tr>\n",
       "      <th>1</th>\n",
       "      <td>2020-07-10 17:32:00-07:00</td>\n",
       "      <td>Russian Cursive</td>\n",
       "      <td>Backwards</td>\n",
       "      <td>179813</td>\n",
       "      <td>Russian Cursive, Backwards</td>\n",
       "      <td>afternoon</td>\n",
       "      <td>2020</td>\n",
       "      <td>7</td>\n",
       "      <td>10</td>\n",
       "      <td>17</td>\n",
       "      <td>32</td>\n",
       "      <td>89907.0</td>\n",
       "      <td>11.406531</td>\n",
       "      <td>Friday</td>\n",
       "    </tr>\n",
       "    <tr>\n",
       "      <th>2</th>\n",
       "      <td>2020-07-10 20:37:00-07:00</td>\n",
       "      <td>Russian Cursive</td>\n",
       "      <td>Backwards</td>\n",
       "      <td>113963</td>\n",
       "      <td>Russian Cursive, Backwards</td>\n",
       "      <td>evening</td>\n",
       "      <td>2020</td>\n",
       "      <td>7</td>\n",
       "      <td>10</td>\n",
       "      <td>20</td>\n",
       "      <td>37</td>\n",
       "      <td>56982.0</td>\n",
       "      <td>10.950491</td>\n",
       "      <td>Friday</td>\n",
       "    </tr>\n",
       "    <tr>\n",
       "      <th>3</th>\n",
       "      <td>2020-07-10 23:40:00-07:00</td>\n",
       "      <td>Toro y Moi</td>\n",
       "      <td>Mirage</td>\n",
       "      <td>114282</td>\n",
       "      <td>Toro y Moi, Mirage</td>\n",
       "      <td>evening</td>\n",
       "      <td>2020</td>\n",
       "      <td>7</td>\n",
       "      <td>10</td>\n",
       "      <td>23</td>\n",
       "      <td>40</td>\n",
       "      <td>57141.5</td>\n",
       "      <td>10.953286</td>\n",
       "      <td>Friday</td>\n",
       "    </tr>\n",
       "    <tr>\n",
       "      <th>4</th>\n",
       "      <td>2020-07-10 23:42:00-07:00</td>\n",
       "      <td>Aru-2</td>\n",
       "      <td>Dwell</td>\n",
       "      <td>137142</td>\n",
       "      <td>Aru-2, Dwell</td>\n",
       "      <td>evening</td>\n",
       "      <td>2020</td>\n",
       "      <td>7</td>\n",
       "      <td>10</td>\n",
       "      <td>23</td>\n",
       "      <td>42</td>\n",
       "      <td>68571.5</td>\n",
       "      <td>11.135632</td>\n",
       "      <td>Friday</td>\n",
       "    </tr>\n",
       "  </tbody>\n",
       "</table>\n",
       "</div>"
      ],
      "text/plain": [
       "                     endTime       artistName  trackName  msPlayed  \\\n",
       "0  2020-07-10 17:19:00-07:00  Russian Cursive  Backwards    179813   \n",
       "1  2020-07-10 17:32:00-07:00  Russian Cursive  Backwards    179813   \n",
       "2  2020-07-10 20:37:00-07:00  Russian Cursive  Backwards    113963   \n",
       "3  2020-07-10 23:40:00-07:00       Toro y Moi     Mirage    114282   \n",
       "4  2020-07-10 23:42:00-07:00            Aru-2      Dwell    137142   \n",
       "\n",
       "                           id  TimeOfDay  Year  Month  Day  Hour  Minute  \\\n",
       "0  Russian Cursive, Backwards  afternoon  2020      7   10    17      19   \n",
       "1  Russian Cursive, Backwards  afternoon  2020      7   10    17      32   \n",
       "2  Russian Cursive, Backwards    evening  2020      7   10    20      37   \n",
       "3          Toro y Moi, Mirage    evening  2020      7   10    23      40   \n",
       "4                Aru-2, Dwell    evening  2020      7   10    23      42   \n",
       "\n",
       "      norm    lognorm weekday  \n",
       "0  89907.0  11.406531  Friday  \n",
       "1  89907.0  11.406531  Friday  \n",
       "2  56982.0  10.950491  Friday  \n",
       "3  57141.5  10.953286  Friday  \n",
       "4  68571.5  11.135632  Friday  "
      ]
     },
     "execution_count": 387,
     "metadata": {},
     "output_type": "execute_result"
    }
   ],
   "source": [
    "df['weekday']=df['weekday'].apply(lambda x: weekday_name(x))\n",
    "df.head()"
   ]
  },
  {
   "cell_type": "code",
   "execution_count": 380,
   "metadata": {},
   "outputs": [
    {
     "data": {
      "text/html": [
       "<div>\n",
       "<style scoped>\n",
       "    .dataframe tbody tr th:only-of-type {\n",
       "        vertical-align: middle;\n",
       "    }\n",
       "\n",
       "    .dataframe tbody tr th {\n",
       "        vertical-align: top;\n",
       "    }\n",
       "\n",
       "    .dataframe thead th {\n",
       "        text-align: right;\n",
       "    }\n",
       "</style>\n",
       "<table border=\"1\" class=\"dataframe\">\n",
       "  <thead>\n",
       "    <tr style=\"text-align: right;\">\n",
       "      <th></th>\n",
       "      <th>Unnamed: 0</th>\n",
       "      <th>song</th>\n",
       "      <th>album</th>\n",
       "      <th>artist</th>\n",
       "      <th>uri</th>\n",
       "      <th>instances</th>\n",
       "      <th>playlists</th>\n",
       "      <th>acousticness</th>\n",
       "      <th>danceability</th>\n",
       "      <th>energy</th>\n",
       "      <th>key</th>\n",
       "      <th>loudness</th>\n",
       "      <th>mode</th>\n",
       "      <th>speechiness</th>\n",
       "      <th>tempo</th>\n",
       "      <th>valence</th>\n",
       "      <th>id</th>\n",
       "    </tr>\n",
       "  </thead>\n",
       "  <tbody>\n",
       "    <tr>\n",
       "      <th>0</th>\n",
       "      <td>0</td>\n",
       "      <td>Navajo</td>\n",
       "      <td>Navajo</td>\n",
       "      <td>Masego</td>\n",
       "      <td>6zWU7YALeEDMcPGhKKZJhV</td>\n",
       "      <td>4</td>\n",
       "      <td>['Iykyk', 'These have no common theme other th...</td>\n",
       "      <td>0.117</td>\n",
       "      <td>0.567</td>\n",
       "      <td>0.593</td>\n",
       "      <td>6</td>\n",
       "      <td>-7.404</td>\n",
       "      <td>0</td>\n",
       "      <td>0.288</td>\n",
       "      <td>88.545</td>\n",
       "      <td>0.358</td>\n",
       "      <td>Masego, Navajo</td>\n",
       "    </tr>\n",
       "  </tbody>\n",
       "</table>\n",
       "</div>"
      ],
      "text/plain": [
       "   Unnamed: 0    song   album  artist                     uri  instances  \\\n",
       "0           0  Navajo  Navajo  Masego  6zWU7YALeEDMcPGhKKZJhV          4   \n",
       "\n",
       "                                           playlists  acousticness  \\\n",
       "0  ['Iykyk', 'These have no common theme other th...         0.117   \n",
       "\n",
       "   danceability  energy  key  loudness  mode  speechiness   tempo  valence  \\\n",
       "0         0.567   0.593    6    -7.404     0        0.288  88.545    0.358   \n",
       "\n",
       "               id  \n",
       "0  Masego, Navajo  "
      ]
     },
     "execution_count": 380,
     "metadata": {},
     "output_type": "execute_result"
    }
   ],
   "source": [
    "pl['id']=pl['artist'] + ', '+ pl['song']\n",
    "pl.head(1)"
   ]
  },
  {
   "cell_type": "code",
   "execution_count": 388,
   "metadata": {},
   "outputs": [],
   "source": [
    "new_data = pd.merge(pl,df, on=\"id\")  #you lose 63% of data with this merge\n",
    "new_data.to_csv('Merged_PL_and_Listening_Data.csv')\n"
   ]
  },
  {
   "cell_type": "markdown",
   "metadata": {},
   "source": [
    "### Creating Dataset By Total Listening Time"
   ]
  },
  {
   "cell_type": "code",
   "execution_count": 294,
   "metadata": {},
   "outputs": [
    {
     "name": "stdout",
     "output_type": "stream",
     "text": [
      "<class 'pandas.core.frame.DataFrame'>\n",
      "Index: 4762 entries, ((( O ))), Omw to 武, 生きる\n",
      "Data columns (total 1 columns):\n",
      " #   Column    Non-Null Count  Dtype\n",
      "---  ------    --------------  -----\n",
      " 0   msPlayed  4762 non-null   int64\n",
      "dtypes: int64(1)\n",
      "memory usage: 74.4+ KB\n"
     ]
    }
   ],
   "source": [
    "df_a=df.groupby(['id']).sum() #summing by that unique id (so get total listen time on each song)\n",
    "df_a.info()"
   ]
  },
  {
   "cell_type": "code",
   "execution_count": 295,
   "metadata": {},
   "outputs": [
    {
     "data": {
      "text/html": [
       "<div>\n",
       "<style scoped>\n",
       "    .dataframe tbody tr th:only-of-type {\n",
       "        vertical-align: middle;\n",
       "    }\n",
       "\n",
       "    .dataframe tbody tr th {\n",
       "        vertical-align: top;\n",
       "    }\n",
       "\n",
       "    .dataframe thead th {\n",
       "        text-align: right;\n",
       "    }\n",
       "</style>\n",
       "<table border=\"1\" class=\"dataframe\">\n",
       "  <thead>\n",
       "    <tr style=\"text-align: right;\">\n",
       "      <th></th>\n",
       "      <th>song</th>\n",
       "      <th>album</th>\n",
       "      <th>artist</th>\n",
       "      <th>uri</th>\n",
       "      <th>instances</th>\n",
       "      <th>playlists</th>\n",
       "      <th>acousticness</th>\n",
       "      <th>danceability</th>\n",
       "      <th>energy</th>\n",
       "      <th>key</th>\n",
       "      <th>loudness</th>\n",
       "      <th>mode</th>\n",
       "      <th>speechiness</th>\n",
       "      <th>tempo</th>\n",
       "      <th>valence</th>\n",
       "      <th>id</th>\n",
       "    </tr>\n",
       "  </thead>\n",
       "  <tbody>\n",
       "    <tr>\n",
       "      <th>0</th>\n",
       "      <td>Navajo</td>\n",
       "      <td>Navajo</td>\n",
       "      <td>Masego</td>\n",
       "      <td>6zWU7YALeEDMcPGhKKZJhV</td>\n",
       "      <td>4</td>\n",
       "      <td>['Iykyk', 'These have no common theme other th...</td>\n",
       "      <td>0.1170</td>\n",
       "      <td>0.567</td>\n",
       "      <td>0.593</td>\n",
       "      <td>6</td>\n",
       "      <td>-7.404</td>\n",
       "      <td>0</td>\n",
       "      <td>0.2880</td>\n",
       "      <td>88.545</td>\n",
       "      <td>0.358</td>\n",
       "      <td>Masego, Navajo</td>\n",
       "    </tr>\n",
       "    <tr>\n",
       "      <th>1</th>\n",
       "      <td>Wasn't Looking</td>\n",
       "      <td>A Real Romantic</td>\n",
       "      <td>ELIZA</td>\n",
       "      <td>7kw7eF5H8qLQU0IxbT2gq6</td>\n",
       "      <td>3</td>\n",
       "      <td>['Iykyk', 'These have no common theme other th...</td>\n",
       "      <td>0.0858</td>\n",
       "      <td>0.845</td>\n",
       "      <td>0.176</td>\n",
       "      <td>5</td>\n",
       "      <td>-9.973</td>\n",
       "      <td>0</td>\n",
       "      <td>0.0598</td>\n",
       "      <td>82.004</td>\n",
       "      <td>0.587</td>\n",
       "      <td>ELIZA, Wasn't Looking</td>\n",
       "    </tr>\n",
       "  </tbody>\n",
       "</table>\n",
       "</div>"
      ],
      "text/plain": [
       "             song            album  artist                     uri  instances  \\\n",
       "0          Navajo           Navajo  Masego  6zWU7YALeEDMcPGhKKZJhV          4   \n",
       "1  Wasn't Looking  A Real Romantic   ELIZA  7kw7eF5H8qLQU0IxbT2gq6          3   \n",
       "\n",
       "                                           playlists  acousticness  \\\n",
       "0  ['Iykyk', 'These have no common theme other th...        0.1170   \n",
       "1  ['Iykyk', 'These have no common theme other th...        0.0858   \n",
       "\n",
       "   danceability  energy  key  loudness  mode  speechiness   tempo  valence  \\\n",
       "0         0.567   0.593    6    -7.404     0       0.2880  88.545    0.358   \n",
       "1         0.845   0.176    5    -9.973     0       0.0598  82.004    0.587   \n",
       "\n",
       "                      id  \n",
       "0         Masego, Navajo  \n",
       "1  ELIZA, Wasn't Looking  "
      ]
     },
     "execution_count": 295,
     "metadata": {},
     "output_type": "execute_result"
    }
   ],
   "source": [
    "pl=pl.drop(columns=['Unnamed: 0'])\n",
    "pl['id']=pl['artist']+\", \"+pl['song']\n",
    "pl.head(2) "
   ]
  },
  {
   "cell_type": "code",
   "execution_count": 296,
   "metadata": {},
   "outputs": [],
   "source": [
    "all_data = pd.merge(pl,df_a, on=\"id\")  #you lose 42 rows/songs when you do this merge. \n",
    "#Could be because of lack of data (didn't listen to it recetnly so not on recently listened), or because of bad data"
   ]
  },
  {
   "cell_type": "code",
   "execution_count": 297,
   "metadata": {
    "scrolled": true
   },
   "outputs": [],
   "source": [
    "#all_data.head()"
   ]
  },
  {
   "cell_type": "markdown",
   "metadata": {},
   "source": [
    "### Relationships between features and listening"
   ]
  },
  {
   "cell_type": "code",
   "execution_count": 33,
   "metadata": {
    "scrolled": true
   },
   "outputs": [],
   "source": [
    "#sns.pairplot(all_data,x_vars= ['instances', 'msPlayed','acousticness', 'danceability', 'energy', 'key','loudness','mode','speechiness','tempo','valence'], \n",
    "#                 y_vars= ['instances', 'msPlayed','acousticness', 'danceability', 'energy', 'key','loudness','mode','speechiness','tempo','valence'])"
   ]
  },
  {
   "cell_type": "code",
   "execution_count": 35,
   "metadata": {
    "scrolled": true
   },
   "outputs": [],
   "source": [
    "#sns.pairplot(all_data,x_vars= ['instances', 'msPlayed'], \n",
    "#           y_vars= ['acousticness', 'danceability', 'energy', 'key','loudness','mode','speechiness','tempo','valence'])"
   ]
  },
  {
   "cell_type": "markdown",
   "metadata": {},
   "source": [
    "**Insight**: There's really nothing interesting- Listening, the way most viewing goes (similar to youtube watching), follows an logarithmic function **(Check that)**, which when logged, goes back to a normal distribution "
   ]
  },
  {
   "cell_type": "markdown",
   "metadata": {},
   "source": [
    "# Graveyard\n"
   ]
  },
  {
   "cell_type": "code",
   "execution_count": null,
   "metadata": {},
   "outputs": [],
   "source": []
  },
  {
   "cell_type": "code",
   "execution_count": 267,
   "metadata": {},
   "outputs": [
    {
     "name": "stdout",
     "output_type": "stream",
     "text": [
      "[17 12 13 15 14 16]\n",
      "[20 23 18 19 22 21]\n",
      "[0 1 2 5 3 4]\n",
      "[10 11  8  9  7  6]\n"
     ]
    }
   ],
   "source": [
    "a = df['Hour'][df['TimeOfDay']=='afternoon'].unique()\n",
    "e= df['Hour'][df['TimeOfDay']=='evening'].unique()\n",
    "l= df['Hour'][df['TimeOfDay']=='late_night'].unique()\n",
    "m= df['Hour'][df['TimeOfDay']=='morning'].unique()\n",
    "print(a)\n",
    "print(e)\n",
    "print(l)\n",
    "print(m)"
   ]
  },
  {
   "cell_type": "markdown",
   "metadata": {},
   "source": [
    "## Trying to do some weird animation shit"
   ]
  },
  {
   "cell_type": "code",
   "execution_count": 114,
   "metadata": {},
   "outputs": [],
   "source": [
    "import numpy as np\n",
    "\n",
    "import matplotlib.pyplot as plt\n",
    "import matplotlib.animation as animation\n",
    "\n",
    "# Fixing random state for reproducibility\n",
    "np.random.seed(19680801)\n",
    "# Fixing bin edges\n",
    "HIST_BINS = \n",
    "\n",
    "# histogram our data with numpy\n",
    "data = df['msPlayed']\n",
    "n, _ = np.histogram(data, HIST_BINS)"
   ]
  },
  {
   "cell_type": "code",
   "execution_count": null,
   "metadata": {},
   "outputs": [],
   "source": [
    "def prepare_animation(bar_container):\n",
    "\n",
    "    def animate(frame_number):\n",
    "        # simulate new data coming in\n",
    "        data = np.random.randn(1000)\n",
    "        n, _ = np.histogram(data, HIST_BINS)\n",
    "        for count, rect in zip(n, bar_container.patches):\n",
    "            rect.set_height(count)\n",
    "        return bar_container.patches\n",
    "    return animate"
   ]
  },
  {
   "cell_type": "code",
   "execution_count": null,
   "metadata": {},
   "outputs": [],
   "source": [
    "fig, ax = plt.subplots()\n",
    "_, _, bar_container = ax.hist(data, HIST_BINS, lw=1,\n",
    "                              ec=\"yellow\", fc=\"green\", alpha=0.5)\n",
    "ax.set_ylim(top=55)  # set safe limit to ensure that all data is visible.\n",
    "\n",
    "ani = animation.FuncAnimation(fig, prepare_animation(bar_container), 50,\n",
    "                              repeat=False, blit=True)\n",
    "plt.show()"
   ]
  }
 ],
 "metadata": {
  "kernelspec": {
   "display_name": "Python 3",
   "language": "python",
   "name": "python3"
  },
  "language_info": {
   "codemirror_mode": {
    "name": "ipython",
    "version": 3
   },
   "file_extension": ".py",
   "mimetype": "text/x-python",
   "name": "python",
   "nbconvert_exporter": "python",
   "pygments_lexer": "ipython3",
   "version": "3.8.6"
  }
 },
 "nbformat": 4,
 "nbformat_minor": 4
}
